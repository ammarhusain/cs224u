{
 "cells": [
  {
   "cell_type": "markdown",
   "metadata": {},
   "source": [
    "# Homework and bake-off: Relation extraction using distant supervision"
   ]
  },
  {
   "cell_type": "code",
   "execution_count": null,
   "metadata": {},
   "outputs": [],
   "source": [
    "__author__ = \"Bill MacCartney and Christopher Potts\"\n",
    "__version__ = \"CS224u, Stanford, Fall 2020\""
   ]
  },
  {
   "cell_type": "markdown",
   "metadata": {},
   "source": [
    "## Contents\n",
    "\n",
    "1. [Overview](#Overview)\n",
    "1. [Set-up](#Set-up)\n",
    "1. [Baselines](#Baselines)\n",
    "  1. [Hand-build feature functions](#Hand-build-feature-functions)\n",
    "  1. [Distributed representations](#Distributed-representations)\n",
    "1. [Homework questions](#Homework-questions)\n",
    "  1. [Different model factory [1 points]](#Different-model-factory-[1-points])\n",
    "  1. [Directional unigram features [1.5 points]](#Directional-unigram-features-[1.5-points])\n",
    "  1. [The part-of-speech tags of the \"middle\" words [1.5 points]](#The-part-of-speech-tags-of-the-\"middle\"-words-[1.5-points])\n",
    "  1. [Bag of Synsets [2 points]](#Bag-of-Synsets-[2-points])\n",
    "  1. [Your original system [3 points]](#Your-original-system-[3-points])\n",
    "1. [Bake-off [1 point]](#Bake-off-[1-point])"
   ]
  },
  {
   "cell_type": "markdown",
   "metadata": {},
   "source": [
    "## Overview\n",
    "\n",
    "This homework and associated bake-off are devoted to developing really effective relation extraction systems using distant supervision. \n",
    "\n",
    "As with the previous assignments, this notebook first establishes a baseline system. The initial homework questions ask you to create additional baselines and suggest areas for innovation, and the final homework question asks you to develop an original system for you to enter into the bake-off."
   ]
  },
  {
   "cell_type": "markdown",
   "metadata": {},
   "source": [
    "## Set-up\n",
    "\n",
    "See [the first notebook in this unit](rel_ext_01_task.ipynb#Set-up) for set-up instructions."
   ]
  },
  {
   "cell_type": "code",
   "execution_count": 2,
   "metadata": {},
   "outputs": [],
   "source": [
    "import numpy as np\n",
    "import os\n",
    "import rel_ext\n",
    "from sklearn.linear_model import LogisticRegression\n",
    "import utils"
   ]
  },
  {
   "cell_type": "markdown",
   "metadata": {},
   "source": [
    "As usual, we unite our corpus and KB into a dataset, and create some splits for experimentation:"
   ]
  },
  {
   "cell_type": "code",
   "execution_count": 3,
   "metadata": {},
   "outputs": [],
   "source": [
    "rel_ext_data_home = os.path.join('data', 'rel_ext_data')"
   ]
  },
  {
   "cell_type": "code",
   "execution_count": 4,
   "metadata": {},
   "outputs": [],
   "source": [
    "corpus = rel_ext.Corpus(os.path.join(rel_ext_data_home, 'corpus.tsv.gz'))"
   ]
  },
  {
   "cell_type": "code",
   "execution_count": 5,
   "metadata": {},
   "outputs": [],
   "source": [
    "kb = rel_ext.KB(os.path.join(rel_ext_data_home, 'kb.tsv.gz'))"
   ]
  },
  {
   "cell_type": "code",
   "execution_count": 6,
   "metadata": {},
   "outputs": [],
   "source": [
    "dataset = rel_ext.Dataset(corpus, kb)"
   ]
  },
  {
   "cell_type": "markdown",
   "metadata": {},
   "source": [
    "You are not wedded to this set-up for splits. The bake-off will be conducted on a previously unseen test-set, so all of the data in `dataset` is fair game:"
   ]
  },
  {
   "cell_type": "code",
   "execution_count": 7,
   "metadata": {},
   "outputs": [],
   "source": [
    "splits = dataset.build_splits(\n",
    "    split_names=['tiny', 'train', 'dev'],\n",
    "    split_fracs=[0.01, 0.79, 0.20],\n",
    "    seed=1)"
   ]
  },
  {
   "cell_type": "code",
   "execution_count": 8,
   "metadata": {},
   "outputs": [
    {
     "data": {
      "text/plain": [
       "{'tiny': Corpus with 3,474 examples; KB with 445 triples,\n",
       " 'train': Corpus with 263,285 examples; KB with 36,191 triples,\n",
       " 'dev': Corpus with 64,937 examples; KB with 9,248 triples,\n",
       " 'all': Corpus with 331,696 examples; KB with 45,884 triples}"
      ]
     },
     "execution_count": 8,
     "metadata": {},
     "output_type": "execute_result"
    }
   ],
   "source": [
    "splits"
   ]
  },
  {
   "cell_type": "markdown",
   "metadata": {},
   "source": [
    "## Baselines"
   ]
  },
  {
   "cell_type": "markdown",
   "metadata": {},
   "source": [
    "### Hand-build feature functions"
   ]
  },
  {
   "cell_type": "code",
   "execution_count": 9,
   "metadata": {},
   "outputs": [
    {
     "name": "stdout",
     "output_type": "stream",
     "text": [
      "KBTriple(rel='contains', sbj='Derry', obj='Millennium_Forum')\n",
      "{'a': 6}\n"
     ]
    }
   ],
   "source": [
    "def simple_bag_of_words_featurizer(kbt, corpus, feature_counter):\n",
    "    for ex in corpus.get_examples_for_entities(kbt.sbj, kbt.obj):\n",
    "        for word in ex.middle.split(' '):\n",
    "            feature_counter[word] += 1\n",
    "    for ex in corpus.get_examples_for_entities(kbt.obj, kbt.sbj):\n",
    "        for word in ex.middle.split(' '):\n",
    "            feature_counter[word] += 1\n",
    "    return feature_counter\n",
    "  \n",
    "print(kb.kb_triples[89])\n",
    "from collections import Counter\n",
    "\n",
    "simple_bag_of_words_featurizer(kb.kb_triples[89], corpus, Counter())\n",
    "\n",
    "class foo:\n",
    "  c = 7\n",
    "  def __init__(self):\n",
    "    self.a = 6\n",
    "    b = 9\n",
    "k = foo()\n",
    "print(k.__dict__)"
   ]
  },
  {
   "cell_type": "code",
   "execution_count": 10,
   "metadata": {},
   "outputs": [],
   "source": [
    "featurizers = [simple_bag_of_words_featurizer]"
   ]
  },
  {
   "cell_type": "code",
   "execution_count": 11,
   "metadata": {},
   "outputs": [],
   "source": [
    "model_factory = lambda: LogisticRegression(fit_intercept=True, solver='liblinear')"
   ]
  },
  {
   "cell_type": "code",
   "execution_count": 12,
   "metadata": {},
   "outputs": [
    {
     "name": "stdout",
     "output_type": "stream",
     "text": [
      "relation              precision     recall    f-score    support       size\n",
      "------------------    ---------  ---------  ---------  ---------  ---------\n",
      "adjoins                   0.861      0.382      0.689        340       5716\n",
      "author                    0.808      0.528      0.731        509       5885\n",
      "capital                   0.600      0.221      0.447         95       5471\n",
      "contains                  0.801      0.607      0.753       3904       9280\n",
      "film_performance          0.820      0.559      0.750        766       6142\n",
      "founders                  0.785      0.395      0.656        380       5756\n",
      "genre                     0.681      0.188      0.447        170       5546\n",
      "has_sibling               0.827      0.248      0.564        499       5875\n",
      "has_spouse                0.878      0.327      0.656        594       5970\n",
      "is_a                      0.694      0.241      0.505        497       5873\n",
      "nationality               0.655      0.183      0.432        301       5677\n",
      "parents                   0.870      0.538      0.775        312       5688\n",
      "place_of_birth            0.735      0.215      0.495        233       5609\n",
      "place_of_death            0.600      0.113      0.323        159       5535\n",
      "profession                0.649      0.202      0.450        247       5623\n",
      "worked_at                 0.735      0.252      0.531        242       5618\n",
      "------------------    ---------  ---------  ---------  ---------  ---------\n",
      "macro-average             0.750      0.325      0.575       9248      95264\n"
     ]
    }
   ],
   "source": [
    "baseline_results = rel_ext.experiment(\n",
    "    splits,\n",
    "    train_split='train',\n",
    "    test_split='dev',\n",
    "    featurizers=featurizers,\n",
    "    model_factory=model_factory,\n",
    "    verbose=True)"
   ]
  },
  {
   "cell_type": "markdown",
   "metadata": {},
   "source": [
    "Studying model weights might yield insights:"
   ]
  },
  {
   "cell_type": "code",
   "execution_count": 13,
   "metadata": {},
   "outputs": [
    {
     "name": "stdout",
     "output_type": "stream",
     "text": [
      "Highest and lowest feature weights for relation adjoins:\n",
      "\n",
      "     2.511 Córdoba\n",
      "     2.410 Valais\n",
      "     2.400 Taluks\n",
      "     ..... .....\n",
      "    -1.274 other\n",
      "    -1.440 country\n",
      "    -2.404 Earth\n",
      "\n",
      "Highest and lowest feature weights for relation author:\n",
      "\n",
      "     2.774 wrote\n",
      "     2.616 author\n",
      "     2.287 play\n",
      "     ..... .....\n",
      "    -2.637 Alice\n",
      "    -3.331 1945\n",
      "    -6.998 1865\n",
      "\n",
      "Highest and lowest feature weights for relation capital:\n",
      "\n",
      "     3.545 capital\n",
      "     1.855 especially\n",
      "     1.675 city\n",
      "     ..... .....\n",
      "    -1.159 coast\n",
      "    -1.492 Antrim\n",
      "    -2.199 Madras\n",
      "\n",
      "Highest and lowest feature weights for relation contains:\n",
      "\n",
      "     2.850 third-largest\n",
      "     2.472 bordered\n",
      "     2.307 southwestern\n",
      "     ..... .....\n",
      "    -2.544 film\n",
      "    -2.897 Mile\n",
      "    -3.574 Antrim\n",
      "\n",
      "Highest and lowest feature weights for relation film_performance:\n",
      "\n",
      "     3.796 starring\n",
      "     3.794 alongside\n",
      "     3.415 co-starring\n",
      "     ..... .....\n",
      "    -2.058 Iruvar\n",
      "    -2.258 Anjaani\n",
      "    -2.258 Anjaana\n",
      "\n",
      "Highest and lowest feature weights for relation founders:\n",
      "\n",
      "     4.194 founder\n",
      "     3.842 co-founder\n",
      "     3.822 founded\n",
      "     ..... .....\n",
      "    -1.465 Tankian\n",
      "    -1.761 music\n",
      "    -1.795 novel\n",
      "\n",
      "Highest and lowest feature weights for relation genre:\n",
      "\n",
      "     3.077 series\n",
      "     2.888 movie\n",
      "     2.468 such\n",
      "     ..... .....\n",
      "    -1.584 ;\n",
      "    -1.704 reality\n",
      "    -1.936 at\n",
      "\n",
      "Highest and lowest feature weights for relation has_sibling:\n",
      "\n",
      "     5.457 brother\n",
      "     4.065 sister\n",
      "     2.873 nephew\n",
      "     ..... .....\n",
      "    -1.428 friend\n",
      "    -1.513 Her\n",
      "    -1.734 singer-songwriter\n",
      "\n",
      "Highest and lowest feature weights for relation has_spouse:\n",
      "\n",
      "     5.341 wife\n",
      "     4.296 widow\n",
      "     4.202 husband\n",
      "     ..... .....\n",
      "    -1.486 4\n",
      "    -1.776 grandson\n",
      "    -2.513 friend\n",
      "\n",
      "Highest and lowest feature weights for relation is_a:\n",
      "\n",
      "     2.838 \n",
      "     2.781 family\n",
      "     2.615 genus\n",
      "     ..... .....\n",
      "    -1.676 nightshade\n",
      "    -1.805 emperor\n",
      "    -2.884 hibiscus\n",
      "\n",
      "Highest and lowest feature weights for relation nationality:\n",
      "\n",
      "     2.439 born\n",
      "     1.994 Minister\n",
      "     1.920 becomes\n",
      "     ..... .....\n",
      "    -1.400 or\n",
      "    -1.454 production\n",
      "    -1.612 American\n",
      "\n",
      "Highest and lowest feature weights for relation parents:\n",
      "\n",
      "     4.639 son\n",
      "     4.492 father\n",
      "     4.341 daughter\n",
      "     ..... .....\n",
      "    -1.522 filmmaker\n",
      "    -1.555 defeated\n",
      "    -2.836 Indian\n",
      "\n",
      "Highest and lowest feature weights for relation place_of_birth:\n",
      "\n",
      "     3.724 born\n",
      "     2.888 mayor\n",
      "     2.882 birthplace\n",
      "     ..... .....\n",
      "    -1.405 raised\n",
      "    -1.421 and\n",
      "    -1.464 Indian\n",
      "\n",
      "Highest and lowest feature weights for relation place_of_death:\n",
      "\n",
      "     2.271 died\n",
      "     2.031 assassinated\n",
      "     1.841 where\n",
      "     ..... .....\n",
      "    -1.083 that\n",
      "    -1.127 Museum\n",
      "    -1.252 and\n",
      "\n",
      "Highest and lowest feature weights for relation profession:\n",
      "\n",
      "     3.322 \n",
      "     2.582 American\n",
      "     2.376 philosopher\n",
      "     ..... .....\n",
      "    -1.245 in\n",
      "    -1.293 emperor\n",
      "    -2.098 on\n",
      "\n",
      "Highest and lowest feature weights for relation worked_at:\n",
      "\n",
      "     3.036 professor\n",
      "     2.801 president\n",
      "     2.771 CEO\n",
      "     ..... .....\n",
      "    -1.112 region\n",
      "    -1.115 novel\n",
      "    -1.666 or\n",
      "\n"
     ]
    }
   ],
   "source": [
    "rel_ext.examine_model_weights(baseline_results)"
   ]
  },
  {
   "cell_type": "markdown",
   "metadata": {},
   "source": [
    "### Distributed representations\n",
    "\n",
    "This simple baseline sums the GloVe vector representations for all of the words in the \"middle\" span and feeds those representations into the standard `LogisticRegression`-based `model_factory`. The crucial parameter that enables this is `vectorize=False`. This essentially says to `rel_ext.experiment` that your featurizer or your model will do the work of turning examples into vectors; in that case, `rel_ext.experiment` just organizes these representations by relation type."
   ]
  },
  {
   "cell_type": "code",
   "execution_count": 14,
   "metadata": {},
   "outputs": [],
   "source": [
    "GLOVE_HOME = os.path.join('data', 'glove.6B')"
   ]
  },
  {
   "cell_type": "code",
   "execution_count": 15,
   "metadata": {},
   "outputs": [],
   "source": [
    "glove_lookup = utils.glove2dict(\n",
    "    os.path.join(GLOVE_HOME, 'glove.6B.300d.txt'))"
   ]
  },
  {
   "cell_type": "code",
   "execution_count": 16,
   "metadata": {},
   "outputs": [],
   "source": [
    "import itertools\n",
    "#print(dict(itertools.islice(glove_lookup.items(), 8)))"
   ]
  },
  {
   "cell_type": "code",
   "execution_count": 78,
   "metadata": {},
   "outputs": [],
   "source": [
    "def glove_middle_featurizer(kbt, corpus, np_func=np.mean):\n",
    "    reps = []\n",
    "    for ex in corpus.get_examples_for_entities(kbt.sbj, kbt.obj):\n",
    "        for word in ex.middle.split():\n",
    "            rep = glove_lookup.get(word)\n",
    "            if rep is not None:\n",
    "                reps.append(rep)\n",
    "    # A random representation of the right dimensionality if the\n",
    "    # example happens not to overlap with GloVe's vocabulary:\n",
    "    if len(reps) == 0:\n",
    "        dim = len(next(iter(glove_lookup.values())))\n",
    "        return utils.randvec(n=dim)\n",
    "    else:\n",
    "        return np_func(reps, axis=0)"
   ]
  },
  {
   "cell_type": "code",
   "execution_count": 79,
   "metadata": {},
   "outputs": [
    {
     "name": "stdout",
     "output_type": "stream",
     "text": [
      "relation              precision     recall    f-score    support       size\n",
      "------------------    ---------  ---------  ---------  ---------  ---------\n",
      "adjoins                   0.353      0.053      0.165        340       5716\n",
      "author                    0.841      0.354      0.659        509       5885\n",
      "capital                   0.636      0.074      0.252         95       5471\n",
      "contains                  0.576      0.519      0.564       3904       9280\n",
      "film_performance          0.711      0.270      0.536        766       6142\n",
      "founders                  0.704      0.100      0.319        380       5756\n",
      "genre                     0.700      0.041      0.167        170       5546\n",
      "has_sibling               0.717      0.076      0.267        499       5875\n",
      "has_spouse                0.819      0.205      0.513        594       5970\n",
      "is_a                      0.614      0.070      0.241        497       5873\n",
      "nationality               0.709      0.130      0.374        301       5677\n",
      "parents                   0.856      0.324      0.644        312       5688\n",
      "place_of_birth            0.690      0.124      0.362        233       5609\n",
      "place_of_death            0.462      0.038      0.142        159       5535\n",
      "profession                0.600      0.061      0.216        247       5623\n",
      "worked_at                 0.581      0.149      0.367        242       5618\n",
      "------------------    ---------  ---------  ---------  ---------  ---------\n",
      "macro-average             0.661      0.162      0.362       9248      95264\n"
     ]
    }
   ],
   "source": [
    "glove_results = rel_ext.experiment(\n",
    "    splits,\n",
    "    train_split='train',\n",
    "    test_split='dev',\n",
    "    featurizers=[glove_middle_featurizer],\n",
    "    vectorize=False, # Crucial for this featurizer!\n",
    "    verbose=True)"
   ]
  },
  {
   "cell_type": "markdown",
   "metadata": {},
   "source": [
    "With the same basic code design, one can also use the PyTorch models included in the course repo, or write new ones that are better aligned with the task. For those models, it's likely that the featurizer will just return a list of tokens (or perhaps a list of lists of tokens), and the model will map those into vectors using an embedding."
   ]
  },
  {
   "cell_type": "markdown",
   "metadata": {},
   "source": [
    "## Homework questions\n",
    "\n",
    "Please embed your homework responses in this notebook, and do not delete any cells from the notebook. (You are free to add as many cells as you like as part of your responses.)"
   ]
  },
  {
   "cell_type": "markdown",
   "metadata": {},
   "source": [
    "### Different model factory [1 points]\n",
    "\n",
    "The code in `rel_ext` makes it very easy to experiment with other classifier models: one need only redefine the `model_factory` argument. This question asks you to assess a [Support Vector Classifier](https://scikit-learn.org/stable/modules/generated/sklearn.svm.SVC.html).\n",
    "\n",
    "__To submit:__ A wrapper function `run_svm_model_factory` that does the following: \n",
    "\n",
    "1. Uses `rel_ext.experiment` with the model factory set to one based in an `SVC` with `kernel='linear'` and all other arguments left with default values. \n",
    "1. Trains on the 'train' part of `splits`.\n",
    "1. Assesses on the `dev` part of `splits`.\n",
    "1. Uses `featurizers` as defined above. \n",
    "1. Returns the return value of `rel_ext.experiment` for this set-up.\n",
    "\n",
    "The function `test_run_svm_model_factory` will check that your function conforms to these general specifications."
   ]
  },
  {
   "cell_type": "code",
   "execution_count": 60,
   "metadata": {},
   "outputs": [],
   "source": [
    "def run_svm_model_factory():\n",
    "\n",
    "  ##### YOUR CODE HERE\n",
    "  from sklearn.svm import SVC\n",
    "  \n",
    "  svc_model_factory = lambda: SVC(kernel='linear')\n",
    "  glove_svc_results = rel_ext.experiment(\n",
    "    splits,\n",
    "    #AH TMP\n",
    "    train_split='train',\n",
    "    test_split='dev',\n",
    "    #train_split='tiny',\n",
    "    #test_split='tiny',\n",
    "    featurizers=[glove_middle_featurizer],\n",
    "    model_factory=svc_model_factory,\n",
    "    vectorize=False, # Crucial for this featurizer!\n",
    "    verbose=True)\n",
    "  \n",
    "  return glove_svc_results\n",
    "\n"
   ]
  },
  {
   "cell_type": "code",
   "execution_count": 61,
   "metadata": {},
   "outputs": [],
   "source": [
    "def test_run_svm_model_factory(run_svm_model_factory):\n",
    "    results = run_svm_model_factory()\n",
    "    assert 'featurizers' in results, \\\n",
    "        \"The return value of `run_svm_model_factory` seems not to be correct\"\n",
    "    # Check one of the models to make sure it's an SVC:\n",
    "    assert 'SVC' in results['models']['adjoins'].__class__.__name__, \\\n",
    "        \"It looks like the model factor wasn't set to use an SVC.\""
   ]
  },
  {
   "cell_type": "code",
   "execution_count": null,
   "metadata": {},
   "outputs": [],
   "source": [
    "if 'IS_GRADESCOPE_ENV' not in os.environ:\n",
    "    test_run_svm_model_factory(run_svm_model_factory)"
   ]
  },
  {
   "cell_type": "markdown",
   "metadata": {},
   "source": [
    "### Directional unigram features [1.5 points]\n",
    "\n",
    "The current bag-of-words representation makes no distinction between \"forward\" and \"reverse\" examples. But, intuitively, there is big difference between _X and his son Y_ and _Y and his son X_. This question asks you to modify `simple_bag_of_words_featurizer` to capture these differences. \n",
    "\n",
    "__To submit:__\n",
    "\n",
    "1. A feature function `directional_bag_of_words_featurizer` that is just like `simple_bag_of_words_featurizer` except that it distinguishes \"forward\" and \"reverse\". To do this, you just need to mark each word feature for whether it is derived from a subject–object example or from an object–subject example.  The included function `test_directional_bag_of_words_featurizer` should help verify that you've done this correctly.\n",
    "\n",
    "2. A call to `rel_ext.experiment` with `directional_bag_of_words_featurizer` as the only featurizer. (Aside from this, use all the default values for `rel_ext.experiment` as exemplified above in this notebook.)\n",
    "\n",
    "3. `rel_ext.experiment` returns some of the core objects used in the experiment. How many feature names does the `vectorizer` have for the experiment run in the previous step? Include the code needed for getting this value. (Note: we're partly asking you to figure out how to get this value by using the sklearn documentation, so please don't ask how to do it!)"
   ]
  },
  {
   "cell_type": "code",
   "execution_count": 22,
   "metadata": {},
   "outputs": [
    {
     "name": "stdout",
     "output_type": "stream",
     "text": [
      "relation              precision     recall    f-score    support       size\n",
      "------------------    ---------  ---------  ---------  ---------  ---------\n",
      "adjoins                   0.863      0.406      0.704        340       5716\n",
      "author                    0.829      0.591      0.767        509       5885\n",
      "capital                   0.694      0.263      0.523         95       5471\n",
      "contains                  0.822      0.653      0.782       3904       9280\n",
      "film_performance          0.858      0.661      0.809        766       6142\n",
      "founders                  0.842      0.408      0.694        380       5756\n",
      "genre                     0.719      0.271      0.540        170       5546\n",
      "has_sibling               0.839      0.251      0.571        499       5875\n",
      "has_spouse                0.881      0.360      0.683        594       5970\n",
      "is_a                      0.734      0.249      0.529        497       5873\n",
      "nationality               0.617      0.219      0.453        301       5677\n",
      "parents                   0.894      0.513      0.778        312       5688\n",
      "place_of_birth            0.714      0.236      0.508        233       5609\n",
      "place_of_death            0.622      0.145      0.375        159       5535\n",
      "profession                0.733      0.223      0.503        247       5623\n",
      "worked_at                 0.759      0.273      0.559        242       5618\n",
      "------------------    ---------  ---------  ---------  ---------  ---------\n",
      "macro-average             0.776      0.358      0.611       9248      95264\n"
     ]
    }
   ],
   "source": [
    "def directional_bag_of_words_featurizer(kbt, corpus, feature_counter):\n",
    "    # Append these to the end of the keys you add/access in\n",
    "    # `feature_counter` to distinguish the two orders. You'll\n",
    "    # need to use exactly these strings in order to pass\n",
    "    # `test_directional_bag_of_words_featurizer`.\n",
    "    subject_object_suffix = \"_SO\"\n",
    "    object_subject_suffix = \"_OS\"\n",
    "\n",
    "    ##### YOUR CODE HERE\n",
    "    for ex in corpus.get_examples_for_entities(kbt.sbj, kbt.obj):\n",
    "        for word in ex.middle.split(' '):\n",
    "            feature_counter[word + subject_object_suffix] += 1\n",
    "    for ex in corpus.get_examples_for_entities(kbt.obj, kbt.sbj):\n",
    "        for word in ex.middle.split(' '):\n",
    "            feature_counter[word + object_subject_suffix] += 1\n",
    "\n",
    "    return feature_counter\n",
    "\n",
    "\n",
    "# Call to `rel_ext.experiment`:\n",
    "##### YOUR CODE HERE\n",
    "directional_unigram_results = rel_ext.experiment(\n",
    "    splits,\n",
    "    featurizers=[directional_bag_of_words_featurizer])\n"
   ]
  },
  {
   "cell_type": "code",
   "execution_count": 41,
   "metadata": {},
   "outputs": [
    {
     "name": "stdout",
     "output_type": "stream",
     "text": [
      "Number of features names that the vectorizer has: 40489\n"
     ]
    }
   ],
   "source": [
    "print(f\"Number of features names that the vectorizer has: {len(directional_unigram_results['vectorizer'].get_feature_names())}\")"
   ]
  },
  {
   "cell_type": "code",
   "execution_count": 24,
   "metadata": {},
   "outputs": [],
   "source": [
    "def test_directional_bag_of_words_featurizer(corpus):\n",
    "    from collections import defaultdict\n",
    "    kbt = rel_ext.KBTriple(rel='worked_at', sbj='Randall_Munroe', obj='xkcd')\n",
    "    feature_counter = defaultdict(int)\n",
    "    # Make sure `feature_counter` is being updated, not reinitialized:\n",
    "    feature_counter['is_OS'] += 5\n",
    "    feature_counter = directional_bag_of_words_featurizer(kbt, corpus, feature_counter)\n",
    "    expected = defaultdict(\n",
    "        int, {'is_OS':6,'a_OS':1,'webcomic_OS':1,'created_OS':1,'by_OS':1})\n",
    "    assert feature_counter == expected, \\\n",
    "        \"Expected:\\n{}\\nGot:\\n{}\".format(expected, feature_counter)"
   ]
  },
  {
   "cell_type": "code",
   "execution_count": 25,
   "metadata": {},
   "outputs": [],
   "source": [
    "if 'IS_GRADESCOPE_ENV' not in os.environ:\n",
    "    test_directional_bag_of_words_featurizer(corpus)"
   ]
  },
  {
   "cell_type": "markdown",
   "metadata": {},
   "source": [
    "### The part-of-speech tags of the \"middle\" words [1.5 points]\n",
    "\n",
    "Our corpus distribution contains part-of-speech (POS) tagged versions of the core text spans. Let's begin to explore whether there is information in these sequences, focusing on `middle_POS`.\n",
    "\n",
    "__To submit:__\n",
    "\n",
    "1. A feature function `middle_bigram_pos_tag_featurizer` that is just like `simple_bag_of_words_featurizer` except that it creates a feature for bigram POS sequences. For example, given \n",
    "\n",
    "  `The/DT dog/N napped/V`\n",
    "  \n",
    "   we obtain the list of bigram POS sequences\n",
    "  \n",
    "   `b = ['<s> DT', 'DT N', 'N V', 'V </s>']`. \n",
    "   \n",
    "   Of course, `middle_bigram_pos_tag_featurizer` should return count dictionaries defined in terms of such bigram POS lists, on the model of `simple_bag_of_words_featurizer`.  Don't forget the start and end tags, to model those environments properly! The included function `test_middle_bigram_pos_tag_featurizer` should help verify that you've done this correctly.\n",
    "\n",
    "2. A call to `rel_ext.experiment` with `middle_bigram_pos_tag_featurizer` as the only featurizer. (Aside from this, use all the default values for `rel_ext.experiment` as exemplified above in this notebook.)"
   ]
  },
  {
   "cell_type": "code",
   "execution_count": 26,
   "metadata": {},
   "outputs": [
    {
     "name": "stdout",
     "output_type": "stream",
     "text": [
      "relation              precision     recall    f-score    support       size\n",
      "------------------    ---------  ---------  ---------  ---------  ---------\n",
      "adjoins                   0.816      0.353      0.647        340       5716\n",
      "author                    0.691      0.334      0.569        509       5885\n",
      "capital                   0.581      0.189      0.411         95       5471\n",
      "contains                  0.751      0.583      0.710       3904       9280\n",
      "film_performance          0.717      0.449      0.640        766       6142\n",
      "founders                  0.565      0.171      0.387        380       5756\n",
      "genre                     0.582      0.188      0.410        170       5546\n",
      "has_sibling               0.681      0.162      0.415        499       5875\n",
      "has_spouse                0.764      0.256      0.547        594       5970\n",
      "is_a                      0.509      0.179      0.372        497       5873\n",
      "nationality               0.389      0.070      0.203        301       5677\n",
      "parents                   0.625      0.272      0.496        312       5688\n",
      "place_of_birth            0.562      0.176      0.390        233       5609\n",
      "place_of_death            0.478      0.069      0.219        159       5535\n",
      "profession                0.580      0.190      0.412        247       5623\n",
      "worked_at                 0.485      0.132      0.316        242       5618\n",
      "------------------    ---------  ---------  ---------  ---------  ---------\n",
      "macro-average             0.611      0.236      0.447       9248      95264\n"
     ]
    }
   ],
   "source": [
    "def middle_bigram_pos_tag_featurizer(kbt, corpus, feature_counter):\n",
    "\n",
    "    ##### YOUR CODE HERE\n",
    "    for ex in corpus.get_examples_for_entities(kbt.sbj, kbt.obj):\n",
    "        for word in get_tag_bigrams(ex.middle_POS):\n",
    "            feature_counter[word] += 1\n",
    "    for ex in corpus.get_examples_for_entities(kbt.obj, kbt.sbj):\n",
    "        for word in get_tag_bigrams(ex.middle_POS):\n",
    "            feature_counter[word] += 1\n",
    "\n",
    "    return feature_counter\n",
    "\n",
    "\n",
    "def get_tag_bigrams(s):\n",
    "    \"\"\"Suggested helper method for `middle_bigram_pos_tag_featurizer`.\n",
    "    This should be defined so that it returns a list of str, where each\n",
    "    element is a POS bigram.\"\"\"\n",
    "    # The values of `start_symbol` and `end_symbol` are defined\n",
    "    # here so that you can use `test_middle_bigram_pos_tag_featurizer`.\n",
    "    start_symbol = \"<s>\"\n",
    "    end_symbol = \"</s>\"\n",
    "\n",
    "    ##### YOUR CODE HERE\n",
    "    tags = [start_symbol] + get_tags(s) + [end_symbol]\n",
    "    tags = [tags[i-1] + ' ' + tags[i] for i in range(1, len(tags))]\n",
    "    return tags\n",
    "\n",
    "\n",
    "def get_tags(s):\n",
    "    \"\"\"Given a sequence of word/POS elements (lemmas), this function\n",
    "    returns a list containing just the POS elements, in order.\n",
    "    \"\"\"\n",
    "    return [parse_lem(lem)[1] for lem in s.strip().split(' ') if lem]\n",
    "\n",
    "\n",
    "def parse_lem(lem):\n",
    "    \"\"\"Helper method for parsing word/POS elements. It just splits\n",
    "    on the rightmost / and returns (word, POS) as a tuple of str.\"\"\"\n",
    "    return lem.strip().rsplit('/', 1)\n",
    "\n",
    "# Call to `rel_ext.experiment`:\n",
    "##### YOUR CODE HERE\n",
    "part_of_speech_results = rel_ext.experiment(\n",
    "    splits,\n",
    "    featurizers=[middle_bigram_pos_tag_featurizer])\n"
   ]
  },
  {
   "cell_type": "code",
   "execution_count": 27,
   "metadata": {},
   "outputs": [],
   "source": [
    "def test_middle_bigram_pos_tag_featurizer(corpus):\n",
    "    from collections import defaultdict\n",
    "    kbt = rel_ext.KBTriple(rel='worked_at', sbj='Randall_Munroe', obj='xkcd')\n",
    "    feature_counter = defaultdict(int)\n",
    "    # Make sure `feature_counter` is being updated, not reinitialized:\n",
    "    feature_counter['<s> VBZ'] += 5\n",
    "    feature_counter = middle_bigram_pos_tag_featurizer(kbt, corpus, feature_counter)\n",
    "    expected = defaultdict(\n",
    "        int, {'<s> VBZ':6,'VBZ DT':1,'DT JJ':1,'JJ VBN':1,'VBN IN':1,'IN </s>':1})\n",
    "    assert feature_counter == expected, \\\n",
    "        \"Expected:\\n{}\\nGot:\\n{}\".format(expected, feature_counter)"
   ]
  },
  {
   "cell_type": "code",
   "execution_count": 28,
   "metadata": {},
   "outputs": [],
   "source": [
    "if 'IS_GRADESCOPE_ENV' not in os.environ:\n",
    "    test_middle_bigram_pos_tag_featurizer(corpus)"
   ]
  },
  {
   "cell_type": "markdown",
   "metadata": {},
   "source": [
    "### Bag of Synsets [2 points]\n",
    "\n",
    "The following allows you to use NLTK's WordNet API to get the synsets compatible with _dog_ as used as a noun:\n",
    "\n",
    "```\n",
    "from nltk.corpus import wordnet as wn\n",
    "dog = wn.synsets('dog', pos='n')\n",
    "dog\n",
    "[Synset('dog.n.01'),\n",
    " Synset('frump.n.01'),\n",
    " Synset('dog.n.03'),\n",
    " Synset('cad.n.01'),\n",
    " Synset('frank.n.02'),\n",
    " Synset('pawl.n.01'),\n",
    " Synset('andiron.n.01')]\n",
    "```\n",
    "\n",
    "This question asks you to create synset-based features from the word/tag pairs in `middle_POS`.\n",
    "\n",
    "__To submit:__\n",
    "\n",
    "1. A feature function `synset_featurizer` that is just like `simple_bag_of_words_featurizer` except that it returns a list of synsets derived from `middle_POS`. Stringify these objects with `str` so that they can be `dict` keys. Use `convert_tag` (included below) to convert tags to `pos` arguments usable by `wn.synsets`. The included function `test_synset_featurizer` should help verify that you've done this correctly.\n",
    "\n",
    "2. A call to `rel_ext.experiment` with `synset_featurizer` as the only featurizer. (Aside from this, use all the default values for `rel_ext.experiment`.)"
   ]
  },
  {
   "cell_type": "code",
   "execution_count": 119,
   "metadata": {},
   "outputs": [
    {
     "name": "stdout",
     "output_type": "stream",
     "text": [
      "relation              precision     recall    f-score    support       size\n",
      "------------------    ---------  ---------  ---------  ---------  ---------\n",
      "adjoins                   0.809      0.335      0.631        340       5716\n",
      "author                    0.779      0.442      0.676        509       5885\n",
      "capital                   0.500      0.232      0.406         95       5471\n",
      "contains                  0.783      0.593      0.736       3904       9280\n",
      "film_performance          0.797      0.542      0.728        766       6142\n",
      "founders                  0.737      0.376      0.619        380       5756\n",
      "genre                     0.617      0.218      0.451        170       5546\n",
      "has_sibling               0.786      0.220      0.519        499       5875\n",
      "has_spouse                0.849      0.313      0.633        594       5970\n",
      "is_a                      0.615      0.254      0.478        497       5873\n",
      "nationality               0.465      0.156      0.333        301       5677\n",
      "parents                   0.866      0.558      0.780        312       5688\n",
      "place_of_birth            0.590      0.210      0.434        233       5609\n",
      "place_of_death            0.417      0.126      0.285        159       5535\n",
      "profession                0.575      0.186      0.406        247       5623\n",
      "worked_at                 0.678      0.252      0.507        242       5618\n",
      "------------------    ---------  ---------  ---------  ---------  ---------\n",
      "macro-average             0.679      0.313      0.539       9248      95264\n"
     ]
    }
   ],
   "source": [
    "from nltk.corpus import wordnet as wn\n",
    "\n",
    "def synset_featurizer(kbt, corpus, feature_counter):\n",
    "\n",
    "    ##### YOUR CODE HERE\n",
    "    for ex in corpus.get_examples_for_entities(kbt.sbj, kbt.obj):\n",
    "        for word in get_synsets(ex.middle_POS):\n",
    "            feature_counter[word] += 1\n",
    "    for ex in corpus.get_examples_for_entities(kbt.obj, kbt.sbj):\n",
    "        for word in get_synsets(ex.middle_POS):\n",
    "            feature_counter[word] += 1\n",
    "\n",
    "    return feature_counter\n",
    "\n",
    "\n",
    "def get_synsets(s):\n",
    "    \"\"\"Suggested helper method for `synset_featurizer`. This should\n",
    "    be completed so that it returns a list of stringified Synsets\n",
    "    associated with elements of `s`.\n",
    "    \"\"\"\n",
    "    # Use `parse_lem` from the previous question to get a list of\n",
    "    # (word, POS) pairs. Remember to convert the POS strings.\n",
    "    wt = [parse_lem(lem) for lem in s.strip().split(' ') if lem]\n",
    "    \n",
    "    ##### YOUR CODE HERE\n",
    "    synsets = [wn.synsets(w.lower(), convert_tag(t)) for w, t in wt]\n",
    "\n",
    "    str_synsets = [str(s) for syn in synsets for s in syn]\n",
    "    return str_synsets\n",
    "\n",
    "\n",
    "\n",
    "def convert_tag(t):\n",
    "    \"\"\"Converts tags so that they can be used by WordNet:\n",
    "\n",
    "    | Tag begins with | WordNet tag |\n",
    "    |-----------------|-------------|\n",
    "    | `N`             | `n`         |\n",
    "    | `V`             | `v`         |\n",
    "    | `J`             | `a`         |\n",
    "    | `R`             | `r`         |\n",
    "    | Otherwise       | `None`      |\n",
    "    \"\"\"\n",
    "    if t[0].lower() in {'n', 'v', 'r'}:\n",
    "        return t[0].lower()\n",
    "    elif t[0].lower() == 'j':\n",
    "        return 'a'\n",
    "    else:\n",
    "        return None\n",
    "\n",
    "\n",
    "# Call to `rel_ext.experiment`:\n",
    "##### YOUR CODE HERE\n",
    "synset_results = rel_ext.experiment(\n",
    "    splits,\n",
    "    featurizers=[synset_featurizer], verbose=True)"
   ]
  },
  {
   "cell_type": "code",
   "execution_count": 55,
   "metadata": {},
   "outputs": [],
   "source": [
    "def test_synset_featurizer(corpus):\n",
    "    from collections import defaultdict\n",
    "    kbt = rel_ext.KBTriple(rel='worked_at', sbj='Randall_Munroe', obj='xkcd')\n",
    "    feature_counter = defaultdict(int)\n",
    "    # Make sure `feature_counter` is being updated, not reinitialized:\n",
    "    feature_counter[\"Synset('be.v.01')\"] += 5\n",
    "    feature_counter = synset_featurizer(kbt, corpus, feature_counter)\n",
    "    # The full return values for this tend to be long, so we just\n",
    "    # test a few examples to avoid cluttering up this notebook.\n",
    "    test_cases = {\n",
    "        \"Synset('be.v.01')\": 6,\n",
    "        \"Synset('embody.v.02')\": 1\n",
    "    }\n",
    "    for ss, expected in test_cases.items():\n",
    "        result = feature_counter[ss]\n",
    "        assert result == expected, \\\n",
    "            \"Incorrect count for {}: Expected {}; Got {}\".format(ss, expected, result)"
   ]
  },
  {
   "cell_type": "code",
   "execution_count": 57,
   "metadata": {},
   "outputs": [],
   "source": [
    "if 'IS_GRADESCOPE_ENV' not in os.environ:\n",
    "    test_synset_featurizer(corpus)"
   ]
  },
  {
   "cell_type": "markdown",
   "metadata": {},
   "source": [
    "### Your original system [3 points]\n",
    "\n",
    "There are many options, and this could easily grow into a project. Here are a few ideas:\n",
    "\n",
    "- Try out different classifier models, from `sklearn` and elsewhere.\n",
    "- Add a feature that indicates the length of the middle.\n",
    "- Augment the bag-of-words representation to include bigrams or trigrams (not just unigrams).\n",
    "- Introduce features based on the entity mentions themselves. <!-- \\[SPOILER: it helps a lot, maybe 4% in F-score. And combines nicely with the directional features.\\] -->\n",
    "- Experiment with features based on the context outside (rather than between) the two entity mentions — that is, the words before the first mention, or after the second.\n",
    "- Try adding features which capture syntactic information, such as the dependency-path features used by Mintz et al. 2009. The [NLTK](https://www.nltk.org/) toolkit contains a variety of [parsing algorithms](http://www.nltk.org/api/nltk.parse.html) that may help.\n",
    "- The bag-of-words representation does not permit generalization across word categories such as names of people, places, or companies. Can we do better using word embeddings such as [GloVe](https://nlp.stanford.edu/projects/glove/)?\n",
    "\n",
    "In the cell below, please provide a brief technical description of your original system, so that the teaching team can gain an understanding of what it does. This will help us to understand your code and analyze all the submissions to identify patterns and strategies. We also ask that you report the best score your system got during development, just to help us understand how systems performed overall."
   ]
  },
  {
   "cell_type": "code",
   "execution_count": 9,
   "metadata": {},
   "outputs": [
    {
     "name": "stdout",
     "output_type": "stream",
     "text": [
      "start\n",
      "relation              precision     recall    f-score    support       size\n",
      "------------------    ---------  ---------  ---------  ---------  ---------\n",
      "adjoins                   0.785      0.482      0.697        340       5716\n",
      "author                    0.723      0.468      0.652        509       5885\n",
      "capital                   0.449      0.326      0.418         95       5471\n",
      "contains                  0.749      0.534      0.693       3904       9280\n",
      "film_performance          0.752      0.570      0.707        766       6142\n",
      "founders                  0.712      0.403      0.617        380       5756\n",
      "genre                     0.561      0.271      0.462        170       5546\n",
      "has_sibling               0.762      0.431      0.661        499       5875\n",
      "has_spouse                0.725      0.374      0.611        594       5970\n",
      "is_a                      0.659      0.300      0.532        497       5873\n",
      "nationality               0.412      0.156      0.310        301       5677\n",
      "parents                   0.749      0.468      0.668        312       5688\n",
      "place_of_birth            0.423      0.189      0.339        233       5609\n",
      "place_of_death            0.377      0.145      0.285        159       5535\n",
      "profession                0.553      0.255      0.448        247       5623\n",
      "worked_at                 0.533      0.231      0.423        242       5618\n",
      "------------------    ---------  ---------  ---------  ---------  ---------\n",
      "macro-average             0.620      0.350      0.533       9248      95264\n"
     ]
    }
   ],
   "source": [
    "# PLEASE MAKE SURE TO INCLUDE THE FOLLOWING BETWEEN THE START AND STOP COMMENTS:\n",
    "#   1) Textual description of your system.\n",
    "#   2) The code for your original system.\n",
    "#   3) The score achieved by your system in place of MY_NUMBER.\n",
    "#        With no other changes to that line.\n",
    "#        You should report your score as a decimal value <=1.0\n",
    "# PLEASE MAKE SURE NOT TO DELETE OR EDIT THE START AND STOP COMMENTS\n",
    "\n",
    "# IMPORT ANY MODULES BELOW THE 'IS_GRADESCOPE_ENV' CHECK CONDITION. DOING\n",
    "# SO ABOVE THE CHECK MAY CAUSE THE AUTOGRADER TO FAIL.\n",
    "\n",
    "# START COMMENT: Enter your system description in this cell.\n",
    "# My peak score was: MY_NUMBER\n",
    "# Trigram with glove + SVC?\n",
    "\n",
    "if 'IS_GRADESCOPE_ENV' not in os.environ:\n",
    "  \n",
    "  print('start')\n",
    "  def get_trigrams(s):\n",
    "    # The values of `start_symbol` and `end_symbol` are defined\n",
    "    # here so that you can use `test_middle_bigram_pos_tag_featurizer`.\n",
    "    start_symbol = \"<s>\"\n",
    "    end_symbol = \"</s>\"\n",
    "    s = [start_symbol] + s.split() + [end_symbol]\n",
    "    trigrams = [(s[i-2], s[i-1], s[i]) for i in range(2, len(s))]\n",
    "    return trigrams \n",
    "  \n",
    "  #GLOVE_HOME = os.path.join('data', 'glove.6B')\n",
    "  #glove_lookup = utils.glove2dict(\n",
    "  #  os.path.join(GLOVE_HOME, 'glove.6B.300d.txt'))\n",
    "\n",
    "  def trigram_glove_featurizer(kbt, corpus):\n",
    "    reps = []\n",
    "    dim = len(next(iter(glove_lookup.values())))\n",
    "    \n",
    "    def featurize(ex, reps):\n",
    "      sent = ex.left + ex.mention_1 + ex.middle + ex.mention_2 + ex.right\n",
    "      trigrams = get_trigrams(sent)\n",
    "      for t in trigrams:\n",
    "        tws = [np.zeros(dim), np.zeros(dim), np.zeros(dim)]\n",
    "        for i, word in enumerate(t):\n",
    "          tw = glove_lookup.get(word)\n",
    "          if tw is not None:\n",
    "            tws[i] = tw          \n",
    "        reps.append(np.mean(tws, axis=0))\n",
    "      return reps\n",
    "    \n",
    "    for ex in corpus.get_examples_for_entities(kbt.sbj, kbt.obj):\n",
    "      reps += featurize(ex, reps)\n",
    "      \n",
    "    for ex in corpus.get_examples_for_entities(kbt.obj, kbt.sbj):\n",
    "      reps += featurize(ex, reps)\n",
    "        \n",
    "    # A random representation of the right dimensionality if \n",
    "    # nothing was found in GloVe or the corpus.\n",
    "    if len(reps) == 0:\n",
    "        return utils.randvec(n=dim)\n",
    "    else:\n",
    "        return np.sum(reps, axis=0) \n",
    "\n",
    "  # Original system # 1\n",
    "#   glove_results_1 = rel_ext.experiment(\n",
    "#     splits,\n",
    "#     train_split='train',\n",
    "#     test_split='dev',\n",
    "#     featurizers=[glove_middle_featurizer],\n",
    "#     vectorize=False, # Crucial for this featurizer!\n",
    "#     verbose=True)\n",
    "\n",
    "  def scaled_featurizer(kbt, corpus, feature_counter):\n",
    "    for ex in corpus.get_examples_for_entities(kbt.sbj, kbt.obj):\n",
    "      left_tokens = ex.left.split()\n",
    "      for idx, word in enumerate(left_tokens):\n",
    "        feature_counter[word] += (idx/len(left_tokens))\n",
    "      mid_tokens = ex.middle.split()\n",
    "      for idx, word in enumerate(mid_tokens):\n",
    "        feature_counter[word] += 1\n",
    "      right_tokens = ex.right.split()        \n",
    "      for idx, word in enumerate(right_tokens):\n",
    "        feature_counter[word] += (idx/len(right_tokens))\n",
    "      feature_counter[ex.mention_1] += 1\n",
    "      feature_counter[ex.mention_2] += 1\n",
    "\n",
    "    for ex in corpus.get_examples_for_entities(kbt.obj, kbt.sbj):\n",
    "      left_tokens = ex.left.split()\n",
    "      for idx, word in enumerate(left_tokens):\n",
    "        feature_counter[word] += (idx/len(left_tokens))\n",
    "      mid_tokens = ex.middle.split()\n",
    "      for idx, word in enumerate(mid_tokens):\n",
    "        feature_counter[word] += 1\n",
    "      right_tokens = ex.right.split()        \n",
    "      for idx, word in enumerate(right_tokens):\n",
    "        feature_counter[word] += (idx/len(right_tokens))\n",
    "      feature_counter[ex.mention_1] += 10\n",
    "      feature_counter[ex.mention_2] += 10\n",
    "\n",
    "    return feature_counter  \n",
    "\n",
    "  # Original System # 2\n",
    "#   glove_results = rel_ext.experiment(\n",
    "#     splits,\n",
    "#     train_split='train',\n",
    "#     test_split='dev',\n",
    "#     featurizers=[scaled_featurizer],\n",
    "#     verbose=True)\n",
    "  \n",
    "  from sklearn.ensemble import AdaBoostClassifier\n",
    "  adaboost_model_factory = lambda: AdaBoostClassifier(n_estimators=100)\n",
    "  glove_svc_results = rel_ext.experiment(\n",
    "    splits,\n",
    "    #AH TMP\n",
    "    train_split='train',\n",
    "    test_split='dev',\n",
    "    #train_split='tiny',\n",
    "    #test_split='tiny',\n",
    "    featurizers=[scaled_featurizer],\n",
    "    model_factory=adaboost_model_factory,\n",
    "    verbose=True)\n",
    "  \n",
    "  with open('hw_rel_ext_orig_sys_adaboost.txt', 'w') as f:\n",
    "    print(f'Ran with adaboost: {glove_svc_results}', file=f)\n",
    "\n",
    "# STOP COMMENT: Please do not remove this comment."
   ]
  },
  {
   "cell_type": "markdown",
   "metadata": {},
   "source": [
    "## Bake-off [1 point]\n",
    "\n",
    "For the bake-off, we will release a test set. The announcement will go out on the discussion forum. You will evaluate your custom model from the previous question on these new datasets using the function `rel_ext.bake_off_experiment`. Rules:\n",
    "\n",
    "1. Only one evaluation is permitted.\n",
    "1. No additional system tuning is permitted once the bake-off has started.\n",
    "\n",
    "The cells below this one constitute your bake-off entry.\n",
    "\n",
    "People who enter will receive the additional homework point, and people whose systems achieve the top score will receive an additional 0.5 points. We will test the top-performing systems ourselves, and only systems for which we can reproduce the reported results will win the extra 0.5 points.\n",
    "\n",
    "Late entries will be accepted, but they cannot earn the extra 0.5 points. Similarly, you cannot win the bake-off unless your homework is submitted on time.\n",
    "\n",
    "The announcement will include the details on where to submit your entry."
   ]
  },
  {
   "cell_type": "code",
   "execution_count": null,
   "metadata": {},
   "outputs": [],
   "source": [
    "# Enter your bake-off assessment code in this cell.\n",
    "# Please do not remove this comment.\n",
    "if 'IS_GRADESCOPE_ENV' not in os.environ:\n",
    "    pass\n",
    "    # Please enter your code in the scope of the above conditional.\n",
    "    ##### YOUR CODE HERE\n"
   ]
  },
  {
   "cell_type": "code",
   "execution_count": null,
   "metadata": {},
   "outputs": [],
   "source": [
    "# On an otherwise blank line in this cell, please enter\n",
    "# your macro-average f-score (an F_0.5 score) as reported\n",
    "# by the code above. Please enter only a number between\n",
    "# 0 and 1 inclusive. Please do not remove this comment.\n",
    "if 'IS_GRADESCOPE_ENV' not in os.environ:\n",
    "    pass\n",
    "    # Please enter your score in the scope of the above conditional.\n",
    "    ##### YOUR CODE HERE\n"
   ]
  }
 ],
 "metadata": {
  "kernelspec": {
   "display_name": "Python 3",
   "language": "python",
   "name": "python3"
  },
  "language_info": {
   "codemirror_mode": {
    "name": "ipython",
    "version": 3
   },
   "file_extension": ".py",
   "mimetype": "text/x-python",
   "name": "python",
   "nbconvert_exporter": "python",
   "pygments_lexer": "ipython3",
   "version": "3.7.7"
  },
  "widgets": {
   "state": {},
   "version": "1.1.2"
  }
 },
 "nbformat": 4,
 "nbformat_minor": 4
}
