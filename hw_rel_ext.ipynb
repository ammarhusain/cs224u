{
 "cells": [
  {
   "cell_type": "markdown",
   "metadata": {},
   "source": [
    "# Homework and bake-off: Relation extraction using distant supervision"
   ]
  },
  {
   "cell_type": "code",
   "execution_count": 1,
   "metadata": {},
   "outputs": [],
   "source": [
    "__author__ = \"Bill MacCartney and Christopher Potts\"\n",
    "__version__ = \"CS224u, Stanford, Fall 2020\""
   ]
  },
  {
   "cell_type": "markdown",
   "metadata": {},
   "source": [
    "## Contents\n",
    "\n",
    "1. [Overview](#Overview)\n",
    "1. [Set-up](#Set-up)\n",
    "1. [Baselines](#Baselines)\n",
    "  1. [Hand-build feature functions](#Hand-build-feature-functions)\n",
    "  1. [Distributed representations](#Distributed-representations)\n",
    "1. [Homework questions](#Homework-questions)\n",
    "  1. [Different model factory [1 points]](#Different-model-factory-[1-points])\n",
    "  1. [Directional unigram features [1.5 points]](#Directional-unigram-features-[1.5-points])\n",
    "  1. [The part-of-speech tags of the \"middle\" words [1.5 points]](#The-part-of-speech-tags-of-the-\"middle\"-words-[1.5-points])\n",
    "  1. [Bag of Synsets [2 points]](#Bag-of-Synsets-[2-points])\n",
    "  1. [Your original system [3 points]](#Your-original-system-[3-points])\n",
    "1. [Bake-off [1 point]](#Bake-off-[1-point])"
   ]
  },
  {
   "cell_type": "markdown",
   "metadata": {},
   "source": [
    "## Overview\n",
    "\n",
    "This homework and associated bake-off are devoted to developing really effective relation extraction systems using distant supervision. \n",
    "\n",
    "As with the previous assignments, this notebook first establishes a baseline system. The initial homework questions ask you to create additional baselines and suggest areas for innovation, and the final homework question asks you to develop an original system for you to enter into the bake-off."
   ]
  },
  {
   "cell_type": "markdown",
   "metadata": {},
   "source": [
    "## Set-up\n",
    "\n",
    "See [the first notebook in this unit](rel_ext_01_task.ipynb#Set-up) for set-up instructions."
   ]
  },
  {
   "cell_type": "code",
   "execution_count": 2,
   "metadata": {},
   "outputs": [],
   "source": [
    "import numpy as np\n",
    "import os\n",
    "import rel_ext\n",
    "from sklearn.linear_model import LogisticRegression\n",
    "import utils"
   ]
  },
  {
   "cell_type": "markdown",
   "metadata": {},
   "source": [
    "As usual, we unite our corpus and KB into a dataset, and create some splits for experimentation:"
   ]
  },
  {
   "cell_type": "code",
   "execution_count": 3,
   "metadata": {},
   "outputs": [],
   "source": [
    "rel_ext_data_home = os.path.join('data', 'rel_ext_data')"
   ]
  },
  {
   "cell_type": "code",
   "execution_count": 4,
   "metadata": {},
   "outputs": [],
   "source": [
    "corpus = rel_ext.Corpus(os.path.join(rel_ext_data_home, 'corpus.tsv.gz'))"
   ]
  },
  {
   "cell_type": "code",
   "execution_count": 5,
   "metadata": {},
   "outputs": [],
   "source": [
    "kb = rel_ext.KB(os.path.join(rel_ext_data_home, 'kb.tsv.gz'))"
   ]
  },
  {
   "cell_type": "code",
   "execution_count": 6,
   "metadata": {},
   "outputs": [],
   "source": [
    "dataset = rel_ext.Dataset(corpus, kb)"
   ]
  },
  {
   "cell_type": "markdown",
   "metadata": {},
   "source": [
    "You are not wedded to this set-up for splits. The bake-off will be conducted on a previously unseen test-set, so all of the data in `dataset` is fair game:"
   ]
  },
  {
   "cell_type": "code",
   "execution_count": 7,
   "metadata": {},
   "outputs": [],
   "source": [
    "splits = dataset.build_splits(\n",
    "    split_names=['tiny', 'train', 'dev'],\n",
    "    split_fracs=[0.01, 0.79, 0.20],\n",
    "    seed=1)"
   ]
  },
  {
   "cell_type": "code",
   "execution_count": 8,
   "metadata": {},
   "outputs": [
    {
     "data": {
      "text/plain": [
       "{'tiny': Corpus with 3,474 examples; KB with 445 triples,\n",
       " 'train': Corpus with 263,285 examples; KB with 36,191 triples,\n",
       " 'dev': Corpus with 64,937 examples; KB with 9,248 triples,\n",
       " 'all': Corpus with 331,696 examples; KB with 45,884 triples}"
      ]
     },
     "execution_count": 8,
     "metadata": {},
     "output_type": "execute_result"
    }
   ],
   "source": [
    "splits"
   ]
  },
  {
   "cell_type": "markdown",
   "metadata": {},
   "source": [
    "## Baselines"
   ]
  },
  {
   "cell_type": "markdown",
   "metadata": {},
   "source": [
    "### Hand-build feature functions"
   ]
  },
  {
   "cell_type": "code",
   "execution_count": 9,
   "metadata": {},
   "outputs": [
    {
     "name": "stdout",
     "output_type": "stream",
     "text": [
      "KBTriple(rel='contains', sbj='Derry', obj='Millennium_Forum')\n",
      "{'a': 6}\n"
     ]
    }
   ],
   "source": [
    "def simple_bag_of_words_featurizer(kbt, corpus, feature_counter):\n",
    "    for ex in corpus.get_examples_for_entities(kbt.sbj, kbt.obj):\n",
    "        for word in ex.middle.split(' '):\n",
    "            feature_counter[word] += 1\n",
    "    for ex in corpus.get_examples_for_entities(kbt.obj, kbt.sbj):\n",
    "        for word in ex.middle.split(' '):\n",
    "            feature_counter[word] += 1\n",
    "    return feature_counter\n",
    "  \n",
    "print(kb.kb_triples[89])\n",
    "from collections import Counter\n",
    "\n",
    "simple_bag_of_words_featurizer(kb.kb_triples[89], corpus, Counter())\n",
    "\n",
    "class foo:\n",
    "  c = 7\n",
    "  def __init__(self):\n",
    "    self.a = 6\n",
    "    b = 9\n",
    "k = foo()\n",
    "print(k.__dict__)"
   ]
  },
  {
   "cell_type": "code",
   "execution_count": 10,
   "metadata": {},
   "outputs": [],
   "source": [
    "featurizers = [simple_bag_of_words_featurizer]"
   ]
  },
  {
   "cell_type": "code",
   "execution_count": 11,
   "metadata": {},
   "outputs": [],
   "source": [
    "model_factory = lambda: LogisticRegression(fit_intercept=True, solver='liblinear')"
   ]
  },
  {
   "cell_type": "code",
   "execution_count": 12,
   "metadata": {},
   "outputs": [
    {
     "name": "stdout",
     "output_type": "stream",
     "text": [
      "relation              precision     recall    f-score    support       size\n",
      "------------------    ---------  ---------  ---------  ---------  ---------\n",
      "adjoins                   0.853      0.391      0.690        340       5716\n",
      "author                    0.780      0.536      0.715        509       5885\n",
      "capital                   0.724      0.221      0.498         95       5471\n",
      "contains                  0.790      0.608      0.745       3904       9280\n",
      "film_performance          0.777      0.560      0.721        766       6142\n",
      "founders                  0.777      0.384      0.645        380       5756\n",
      "genre                     0.609      0.165      0.395        170       5546\n",
      "has_sibling               0.854      0.246      0.572        499       5875\n",
      "has_spouse                0.845      0.338      0.650        594       5970\n",
      "is_a                      0.688      0.195      0.457        497       5873\n",
      "nationality               0.670      0.203      0.459        301       5677\n",
      "parents                   0.852      0.535      0.762        312       5688\n",
      "place_of_birth            0.658      0.206      0.457        233       5609\n",
      "place_of_death            0.444      0.101      0.264        159       5535\n",
      "profession                0.722      0.158      0.421        247       5623\n",
      "worked_at                 0.592      0.252      0.466        242       5618\n",
      "------------------    ---------  ---------  ---------  ---------  ---------\n",
      "macro-average             0.727      0.319      0.557       9248      95264\n"
     ]
    }
   ],
   "source": [
    "baseline_results = rel_ext.experiment(\n",
    "    splits,\n",
    "    train_split='train',\n",
    "    test_split='dev',\n",
    "    featurizers=featurizers,\n",
    "    model_factory=model_factory,\n",
    "    verbose=True)"
   ]
  },
  {
   "cell_type": "markdown",
   "metadata": {},
   "source": [
    "Studying model weights might yield insights:"
   ]
  },
  {
   "cell_type": "code",
   "execution_count": 13,
   "metadata": {},
   "outputs": [
    {
     "name": "stdout",
     "output_type": "stream",
     "text": [
      "Highest and lowest feature weights for relation adjoins:\n",
      "\n",
      "     2.538 Córdoba\n",
      "     2.428 Taluks\n",
      "     2.414 Valais\n",
      "     ..... .....\n",
      "    -1.070 capital\n",
      "    -1.158 Afghanistan\n",
      "    -1.349 America\n",
      "\n",
      "Highest and lowest feature weights for relation author:\n",
      "\n",
      "     2.527 books\n",
      "     2.495 author\n",
      "     2.434 wrote\n",
      "     ..... .....\n",
      "    -2.283 directed\n",
      "    -2.748 Alice\n",
      "    -6.999 1865\n",
      "\n",
      "Highest and lowest feature weights for relation capital:\n",
      "\n",
      "     3.428 capital\n",
      "     1.821 km\n",
      "     1.770 city\n",
      "     ..... .....\n",
      "    -1.088 or\n",
      "    -1.194 and\n",
      "    -1.267 also\n",
      "\n",
      "Highest and lowest feature weights for relation contains:\n",
      "\n",
      "     2.192 bordered\n",
      "     2.074 third-largest\n",
      "     2.073 southwestern\n",
      "     ..... .....\n",
      "    -2.691 Mile\n",
      "    -3.440 Midlands\n",
      "    -3.630 Ceylon\n",
      "\n",
      "Highest and lowest feature weights for relation film_performance:\n",
      "\n",
      "     4.262 starring\n",
      "     3.781 co-starring\n",
      "     3.298 alongside\n",
      "     ..... .....\n",
      "    -2.093 historical\n",
      "    -2.097 Iruvar\n",
      "    -3.987 double\n",
      "\n",
      "Highest and lowest feature weights for relation founders:\n",
      "\n",
      "     4.086 founder\n",
      "     3.777 founded\n",
      "     2.553 co-founded\n",
      "     ..... .....\n",
      "    -2.139 novel\n",
      "    -2.382 William\n",
      "    -2.717 Griffith\n",
      "\n",
      "Highest and lowest feature weights for relation genre:\n",
      "\n",
      "     3.144 series\n",
      "     2.430 movie\n",
      "     2.366 game\n",
      "     ..... .....\n",
      "    -1.489 and\n",
      "    -1.519 his\n",
      "    -1.813 at\n",
      "\n",
      "Highest and lowest feature weights for relation has_sibling:\n",
      "\n",
      "     5.334 brother\n",
      "     3.941 sister\n",
      "     2.883 nephew\n",
      "     ..... .....\n",
      "    -1.320 II\n",
      "    -1.378 from\n",
      "    -1.726 Her\n",
      "\n",
      "Highest and lowest feature weights for relation has_spouse:\n",
      "\n",
      "     5.497 wife\n",
      "     4.586 married\n",
      "     4.411 husband\n",
      "     ..... .....\n",
      "    -1.486 American\n",
      "    -2.062 Straus\n",
      "    -2.062 Isidor\n",
      "\n",
      "Highest and lowest feature weights for relation is_a:\n",
      "\n",
      "     2.241 Genus\n",
      "     2.235 Family\n",
      "     2.229 \n",
      "     ..... .....\n",
      "    -1.791 birds\n",
      "    -3.442 Talpidae\n",
      "    -5.660 characin\n",
      "\n",
      "Highest and lowest feature weights for relation nationality:\n",
      "\n",
      "     2.592 born\n",
      "     1.937 becomes\n",
      "     1.866 caliph\n",
      "     ..... .....\n",
      "    -1.388 and\n",
      "    -1.740 2010\n",
      "    -1.768 American\n",
      "\n",
      "Highest and lowest feature weights for relation parents:\n",
      "\n",
      "     4.913 son\n",
      "     4.472 daughter\n",
      "     4.184 father\n",
      "     ..... .....\n",
      "    -1.871 Gamal\n",
      "    -2.094 away\n",
      "    -2.471 passes\n",
      "\n",
      "Highest and lowest feature weights for relation place_of_birth:\n",
      "\n",
      "     3.747 born\n",
      "     2.947 birthplace\n",
      "     2.606 mayor\n",
      "     ..... .....\n",
      "    -1.351 or\n",
      "    -1.471 and\n",
      "    -1.477 American\n",
      "\n",
      "Highest and lowest feature weights for relation place_of_death:\n",
      "\n",
      "     2.103 died\n",
      "     1.879 rebuilt\n",
      "     1.791 prominent\n",
      "     ..... .....\n",
      "    -1.129 that\n",
      "    -1.131 as\n",
      "    -1.316 and\n",
      "\n",
      "Highest and lowest feature weights for relation profession:\n",
      "\n",
      "     2.686 \n",
      "     2.279 American\n",
      "     2.212 English\n",
      "     ..... .....\n",
      "    -1.227 at\n",
      "    -1.288 about\n",
      "    -1.919 on\n",
      "\n",
      "Highest and lowest feature weights for relation worked_at:\n",
      "\n",
      "     3.050 professor\n",
      "     2.780 CEO\n",
      "     2.707 founder\n",
      "     ..... .....\n",
      "    -1.365 William\n",
      "    -1.421 novel\n",
      "    -1.636 or\n",
      "\n"
     ]
    }
   ],
   "source": [
    "rel_ext.examine_model_weights(baseline_results)"
   ]
  },
  {
   "cell_type": "markdown",
   "metadata": {},
   "source": [
    "### Distributed representations\n",
    "\n",
    "This simple baseline sums the GloVe vector representations for all of the words in the \"middle\" span and feeds those representations into the standard `LogisticRegression`-based `model_factory`. The crucial parameter that enables this is `vectorize=False`. This essentially says to `rel_ext.experiment` that your featurizer or your model will do the work of turning examples into vectors; in that case, `rel_ext.experiment` just organizes these representations by relation type."
   ]
  },
  {
   "cell_type": "code",
   "execution_count": 14,
   "metadata": {},
   "outputs": [],
   "source": [
    "GLOVE_HOME = os.path.join('data', 'glove.6B')"
   ]
  },
  {
   "cell_type": "code",
   "execution_count": 15,
   "metadata": {},
   "outputs": [],
   "source": [
    "glove_lookup = utils.glove2dict(\n",
    "    os.path.join(GLOVE_HOME, 'glove.6B.300d.txt'))"
   ]
  },
  {
   "cell_type": "code",
   "execution_count": 16,
   "metadata": {},
   "outputs": [],
   "source": [
    "import itertools\n",
    "#print(dict(itertools.islice(glove_lookup.items(), 8)))"
   ]
  },
  {
   "cell_type": "code",
   "execution_count": 17,
   "metadata": {},
   "outputs": [],
   "source": [
    "def glove_middle_featurizer(kbt, corpus, np_func=np.mean):\n",
    "    reps = []\n",
    "    for ex in corpus.get_examples_for_entities(kbt.sbj, kbt.obj):\n",
    "        for word in ex.middle.split():\n",
    "            rep = glove_lookup.get(word)\n",
    "            if rep is not None:\n",
    "                reps.append(rep)\n",
    "    # A random representation of the right dimensionality if the\n",
    "    # example happens not to overlap with GloVe's vocabulary:\n",
    "    if len(reps) == 0:\n",
    "        dim = len(next(iter(glove_lookup.values())))\n",
    "        return utils.randvec(n=dim)\n",
    "    else:\n",
    "        return np_func(reps, axis=0)"
   ]
  },
  {
   "cell_type": "code",
   "execution_count": 18,
   "metadata": {},
   "outputs": [
    {
     "name": "stdout",
     "output_type": "stream",
     "text": [
      "relation              precision     recall    f-score    support       size\n",
      "------------------    ---------  ---------  ---------  ---------  ---------\n",
      "adjoins                   0.340      0.050      0.157        340       5716\n",
      "author                    0.883      0.356      0.681        509       5885\n",
      "capital                   0.462      0.063      0.204         95       5471\n",
      "contains                  0.578      0.512      0.564       3904       9280\n",
      "film_performance          0.743      0.268      0.548        766       6142\n",
      "founders                  0.717      0.113      0.347        380       5756\n",
      "genre                     0.625      0.059      0.214        170       5546\n",
      "has_sibling               0.788      0.082      0.290        499       5875\n",
      "has_spouse                0.745      0.192      0.473        594       5970\n",
      "is_a                      0.600      0.042      0.165        497       5873\n",
      "nationality               0.729      0.143      0.400        301       5677\n",
      "parents                   0.835      0.324      0.634        312       5688\n",
      "place_of_birth            0.733      0.142      0.400        233       5609\n",
      "place_of_death            0.500      0.019      0.082        159       5535\n",
      "profession                0.591      0.053      0.194        247       5623\n",
      "worked_at                 0.532      0.136      0.337        242       5618\n",
      "------------------    ---------  ---------  ---------  ---------  ---------\n",
      "macro-average             0.650      0.160      0.356       9248      95264\n"
     ]
    }
   ],
   "source": [
    "glove_results = rel_ext.experiment(\n",
    "    splits,\n",
    "    train_split='train',\n",
    "    test_split='dev',\n",
    "    featurizers=[glove_middle_featurizer],\n",
    "    vectorize=False, # Crucial for this featurizer!\n",
    "    verbose=True)"
   ]
  },
  {
   "cell_type": "markdown",
   "metadata": {},
   "source": [
    "With the same basic code design, one can also use the PyTorch models included in the course repo, or write new ones that are better aligned with the task. For those models, it's likely that the featurizer will just return a list of tokens (or perhaps a list of lists of tokens), and the model will map those into vectors using an embedding."
   ]
  },
  {
   "cell_type": "markdown",
   "metadata": {},
   "source": [
    "## Homework questions\n",
    "\n",
    "Please embed your homework responses in this notebook, and do not delete any cells from the notebook. (You are free to add as many cells as you like as part of your responses.)"
   ]
  },
  {
   "cell_type": "markdown",
   "metadata": {},
   "source": [
    "### Different model factory [1 points]\n",
    "\n",
    "The code in `rel_ext` makes it very easy to experiment with other classifier models: one need only redefine the `model_factory` argument. This question asks you to assess a [Support Vector Classifier](https://scikit-learn.org/stable/modules/generated/sklearn.svm.SVC.html).\n",
    "\n",
    "__To submit:__ A wrapper function `run_svm_model_factory` that does the following: \n",
    "\n",
    "1. Uses `rel_ext.experiment` with the model factory set to one based in an `SVC` with `kernel='linear'` and all other arguments left with default values. \n",
    "1. Trains on the 'train' part of `splits`.\n",
    "1. Assesses on the `dev` part of `splits`.\n",
    "1. Uses `featurizers` as defined above. \n",
    "1. Returns the return value of `rel_ext.experiment` for this set-up.\n",
    "\n",
    "The function `test_run_svm_model_factory` will check that your function conforms to these general specifications."
   ]
  },
  {
   "cell_type": "code",
   "execution_count": 19,
   "metadata": {},
   "outputs": [],
   "source": [
    "def run_svm_model_factory():\n",
    "\n",
    "  ##### YOUR CODE HERE\n",
    "  from sklearn.svm import SVC\n",
    "  \n",
    "  svc_model_factory = lambda: SVC(kernel='linear')\n",
    "  glove_svc_results = rel_ext.experiment(\n",
    "    splits,\n",
    "    #AH TMP\n",
    "    train_split='train',\n",
    "    test_split='dev',\n",
    "    featurizers=[glove_middle_featurizer],\n",
    "    model_factory=svc_model_factory,\n",
    "    vectorize=False, # Crucial for this featurizer!\n",
    "    verbose=True)\n",
    "  \n",
    "  return glove_svc_results\n",
    "\n",
    "#run_svm_model_factory()"
   ]
  },
  {
   "cell_type": "code",
   "execution_count": 20,
   "metadata": {},
   "outputs": [],
   "source": [
    "def test_run_svm_model_factory(run_svm_model_factory):\n",
    "    results = run_svm_model_factory()\n",
    "    assert 'featurizers' in results, \\\n",
    "        \"The return value of `run_svm_model_factory` seems not to be correct\"\n",
    "    # Check one of the models to make sure it's an SVC:\n",
    "    assert 'SVC' in results['models']['adjoins'].__class__.__name__, \\\n",
    "        \"It looks like the model factor wasn't set to use an SVC.\""
   ]
  },
  {
   "cell_type": "code",
   "execution_count": 21,
   "metadata": {},
   "outputs": [],
   "source": [
    "#if 'IS_GRADESCOPE_ENV' not in os.environ:\n",
    "   #test_run_svm_model_factory(run_svm_model_factory)"
   ]
  },
  {
   "cell_type": "markdown",
   "metadata": {},
   "source": [
    "### Directional unigram features [1.5 points]\n",
    "\n",
    "The current bag-of-words representation makes no distinction between \"forward\" and \"reverse\" examples. But, intuitively, there is big difference between _X and his son Y_ and _Y and his son X_. This question asks you to modify `simple_bag_of_words_featurizer` to capture these differences. \n",
    "\n",
    "__To submit:__\n",
    "\n",
    "1. A feature function `directional_bag_of_words_featurizer` that is just like `simple_bag_of_words_featurizer` except that it distinguishes \"forward\" and \"reverse\". To do this, you just need to mark each word feature for whether it is derived from a subject–object example or from an object–subject example.  The included function `test_directional_bag_of_words_featurizer` should help verify that you've done this correctly.\n",
    "\n",
    "2. A call to `rel_ext.experiment` with `directional_bag_of_words_featurizer` as the only featurizer. (Aside from this, use all the default values for `rel_ext.experiment` as exemplified above in this notebook.)\n",
    "\n",
    "3. `rel_ext.experiment` returns some of the core objects used in the experiment. How many feature names does the `vectorizer` have for the experiment run in the previous step? Include the code needed for getting this value. (Note: we're partly asking you to figure out how to get this value by using the sklearn documentation, so please don't ask how to do it!)"
   ]
  },
  {
   "cell_type": "code",
   "execution_count": 22,
   "metadata": {},
   "outputs": [
    {
     "name": "stdout",
     "output_type": "stream",
     "text": [
      "relation              precision     recall    f-score    support       size\n",
      "------------------    ---------  ---------  ---------  ---------  ---------\n",
      "adjoins                   0.857      0.424      0.711        340       5716\n",
      "author                    0.835      0.587      0.770        509       5885\n",
      "capital                   0.735      0.263      0.541         95       5471\n",
      "contains                  0.821      0.654      0.781       3904       9280\n",
      "film_performance          0.842      0.662      0.799        766       6142\n",
      "founders                  0.814      0.403      0.676        380       5756\n",
      "genre                     0.710      0.259      0.526        170       5546\n",
      "has_sibling               0.853      0.244      0.570        499       5875\n",
      "has_spouse                0.863      0.360      0.675        594       5970\n",
      "is_a                      0.747      0.237      0.523        497       5873\n",
      "nationality               0.673      0.219      0.476        301       5677\n",
      "parents                   0.866      0.516      0.762        312       5688\n",
      "place_of_birth            0.789      0.240      0.542        233       5609\n",
      "place_of_death            0.667      0.151      0.396        159       5535\n",
      "profession                0.704      0.231      0.499        247       5623\n",
      "worked_at                 0.667      0.264      0.511        242       5618\n",
      "------------------    ---------  ---------  ---------  ---------  ---------\n",
      "macro-average             0.778      0.357      0.610       9248      95264\n"
     ]
    }
   ],
   "source": [
    "def directional_bag_of_words_featurizer(kbt, corpus, feature_counter):\n",
    "    # Append these to the end of the keys you add/access in\n",
    "    # `feature_counter` to distinguish the two orders. You'll\n",
    "    # need to use exactly these strings in order to pass\n",
    "    # `test_directional_bag_of_words_featurizer`.\n",
    "    subject_object_suffix = \"_SO\"\n",
    "    object_subject_suffix = \"_OS\"\n",
    "\n",
    "    ##### YOUR CODE HERE\n",
    "    for ex in corpus.get_examples_for_entities(kbt.sbj, kbt.obj):\n",
    "        for word in ex.middle.split(' '):\n",
    "            feature_counter[word + subject_object_suffix] += 1\n",
    "    for ex in corpus.get_examples_for_entities(kbt.obj, kbt.sbj):\n",
    "        for word in ex.middle.split(' '):\n",
    "            feature_counter[word + object_subject_suffix] += 1\n",
    "\n",
    "    return feature_counter\n",
    "\n",
    "\n",
    "# Call to `rel_ext.experiment`:\n",
    "##### YOUR CODE HERE\n",
    "directional_unigram_results = rel_ext.experiment(\n",
    "    splits,\n",
    "    featurizers=[directional_bag_of_words_featurizer])\n"
   ]
  },
  {
   "cell_type": "code",
   "execution_count": 23,
   "metadata": {},
   "outputs": [
    {
     "name": "stdout",
     "output_type": "stream",
     "text": [
      "Number of features names that the vectorizer has: 40576\n"
     ]
    }
   ],
   "source": [
    "print(f\"Number of features names that the vectorizer has: {len(directional_unigram_results['vectorizer'].get_feature_names())}\")"
   ]
  },
  {
   "cell_type": "code",
   "execution_count": 24,
   "metadata": {},
   "outputs": [],
   "source": [
    "def test_directional_bag_of_words_featurizer(corpus):\n",
    "    from collections import defaultdict\n",
    "    kbt = rel_ext.KBTriple(rel='worked_at', sbj='Randall_Munroe', obj='xkcd')\n",
    "    feature_counter = defaultdict(int)\n",
    "    # Make sure `feature_counter` is being updated, not reinitialized:\n",
    "    feature_counter['is_OS'] += 5\n",
    "    feature_counter = directional_bag_of_words_featurizer(kbt, corpus, feature_counter)\n",
    "    expected = defaultdict(\n",
    "        int, {'is_OS':6,'a_OS':1,'webcomic_OS':1,'created_OS':1,'by_OS':1})\n",
    "    assert feature_counter == expected, \\\n",
    "        \"Expected:\\n{}\\nGot:\\n{}\".format(expected, feature_counter)"
   ]
  },
  {
   "cell_type": "code",
   "execution_count": 25,
   "metadata": {},
   "outputs": [],
   "source": [
    "if 'IS_GRADESCOPE_ENV' not in os.environ:\n",
    "    test_directional_bag_of_words_featurizer(corpus)"
   ]
  },
  {
   "cell_type": "markdown",
   "metadata": {},
   "source": [
    "### The part-of-speech tags of the \"middle\" words [1.5 points]\n",
    "\n",
    "Our corpus distribution contains part-of-speech (POS) tagged versions of the core text spans. Let's begin to explore whether there is information in these sequences, focusing on `middle_POS`.\n",
    "\n",
    "__To submit:__\n",
    "\n",
    "1. A feature function `middle_bigram_pos_tag_featurizer` that is just like `simple_bag_of_words_featurizer` except that it creates a feature for bigram POS sequences. For example, given \n",
    "\n",
    "  `The/DT dog/N napped/V`\n",
    "  \n",
    "   we obtain the list of bigram POS sequences\n",
    "  \n",
    "   `b = ['<s> DT', 'DT N', 'N V', 'V </s>']`. \n",
    "   \n",
    "   Of course, `middle_bigram_pos_tag_featurizer` should return count dictionaries defined in terms of such bigram POS lists, on the model of `simple_bag_of_words_featurizer`.  Don't forget the start and end tags, to model those environments properly! The included function `test_middle_bigram_pos_tag_featurizer` should help verify that you've done this correctly.\n",
    "\n",
    "2. A call to `rel_ext.experiment` with `middle_bigram_pos_tag_featurizer` as the only featurizer. (Aside from this, use all the default values for `rel_ext.experiment` as exemplified above in this notebook.)"
   ]
  },
  {
   "cell_type": "code",
   "execution_count": 26,
   "metadata": {},
   "outputs": [
    {
     "name": "stdout",
     "output_type": "stream",
     "text": [
      "relation              precision     recall    f-score    support       size\n",
      "------------------    ---------  ---------  ---------  ---------  ---------\n",
      "adjoins                   0.808      0.347      0.639        340       5716\n",
      "author                    0.714      0.338      0.584        509       5885\n",
      "capital                   0.640      0.168      0.410         95       5471\n",
      "contains                  0.774      0.592      0.729       3904       9280\n",
      "film_performance          0.715      0.448      0.638        766       6142\n",
      "founders                  0.520      0.174      0.372        380       5756\n",
      "genre                     0.612      0.176      0.410        170       5546\n",
      "has_sibling               0.624      0.166      0.403        499       5875\n",
      "has_spouse                0.764      0.278      0.566        594       5970\n",
      "is_a                      0.557      0.157      0.369        497       5873\n",
      "nationality               0.389      0.070      0.203        301       5677\n",
      "parents                   0.589      0.266      0.474        312       5688\n",
      "place_of_birth            0.632      0.185      0.426        233       5609\n",
      "place_of_death            0.560      0.088      0.270        159       5535\n",
      "profession                0.607      0.150      0.377        247       5623\n",
      "worked_at                 0.485      0.132      0.316        242       5618\n",
      "------------------    ---------  ---------  ---------  ---------  ---------\n",
      "macro-average             0.624      0.233      0.449       9248      95264\n"
     ]
    }
   ],
   "source": [
    "def middle_bigram_pos_tag_featurizer(kbt, corpus, feature_counter):\n",
    "\n",
    "    ##### YOUR CODE HERE\n",
    "    for ex in corpus.get_examples_for_entities(kbt.sbj, kbt.obj):\n",
    "        for word in get_tag_bigrams(ex.middle_POS):\n",
    "            feature_counter[word] += 1\n",
    "    for ex in corpus.get_examples_for_entities(kbt.obj, kbt.sbj):\n",
    "        for word in get_tag_bigrams(ex.middle_POS):\n",
    "            feature_counter[word] += 1\n",
    "\n",
    "    return feature_counter\n",
    "\n",
    "\n",
    "def get_tag_bigrams(s):\n",
    "    \"\"\"Suggested helper method for `middle_bigram_pos_tag_featurizer`.\n",
    "    This should be defined so that it returns a list of str, where each\n",
    "    element is a POS bigram.\"\"\"\n",
    "    # The values of `start_symbol` and `end_symbol` are defined\n",
    "    # here so that you can use `test_middle_bigram_pos_tag_featurizer`.\n",
    "    start_symbol = \"<s>\"\n",
    "    end_symbol = \"</s>\"\n",
    "\n",
    "    ##### YOUR CODE HERE\n",
    "    tags = [start_symbol] + get_tags(s) + [end_symbol]\n",
    "    tags = [tags[i-1] + ' ' + tags[i] for i in range(1, len(tags))]\n",
    "    return tags\n",
    "\n",
    "\n",
    "def get_tags(s):\n",
    "    \"\"\"Given a sequence of word/POS elements (lemmas), this function\n",
    "    returns a list containing just the POS elements, in order.\n",
    "    \"\"\"\n",
    "    return [parse_lem(lem)[1] for lem in s.strip().split(' ') if lem]\n",
    "\n",
    "\n",
    "def parse_lem(lem):\n",
    "    \"\"\"Helper method for parsing word/POS elements. It just splits\n",
    "    on the rightmost / and returns (word, POS) as a tuple of str.\"\"\"\n",
    "    return lem.strip().rsplit('/', 1)\n",
    "\n",
    "# Call to `rel_ext.experiment`:\n",
    "##### YOUR CODE HERE\n",
    "part_of_speech_results = rel_ext.experiment(\n",
    "    splits,\n",
    "    featurizers=[middle_bigram_pos_tag_featurizer])\n"
   ]
  },
  {
   "cell_type": "code",
   "execution_count": 27,
   "metadata": {},
   "outputs": [],
   "source": [
    "def test_middle_bigram_pos_tag_featurizer(corpus):\n",
    "    from collections import defaultdict\n",
    "    kbt = rel_ext.KBTriple(rel='worked_at', sbj='Randall_Munroe', obj='xkcd')\n",
    "    feature_counter = defaultdict(int)\n",
    "    # Make sure `feature_counter` is being updated, not reinitialized:\n",
    "    feature_counter['<s> VBZ'] += 5\n",
    "    feature_counter = middle_bigram_pos_tag_featurizer(kbt, corpus, feature_counter)\n",
    "    expected = defaultdict(\n",
    "        int, {'<s> VBZ':6,'VBZ DT':1,'DT JJ':1,'JJ VBN':1,'VBN IN':1,'IN </s>':1})\n",
    "    assert feature_counter == expected, \\\n",
    "        \"Expected:\\n{}\\nGot:\\n{}\".format(expected, feature_counter)"
   ]
  },
  {
   "cell_type": "code",
   "execution_count": 28,
   "metadata": {},
   "outputs": [],
   "source": [
    "if 'IS_GRADESCOPE_ENV' not in os.environ:\n",
    "    test_middle_bigram_pos_tag_featurizer(corpus)"
   ]
  },
  {
   "cell_type": "markdown",
   "metadata": {},
   "source": [
    "### Bag of Synsets [2 points]\n",
    "\n",
    "The following allows you to use NLTK's WordNet API to get the synsets compatible with _dog_ as used as a noun:\n",
    "\n",
    "```\n",
    "from nltk.corpus import wordnet as wn\n",
    "dog = wn.synsets('dog', pos='n')\n",
    "dog\n",
    "[Synset('dog.n.01'),\n",
    " Synset('frump.n.01'),\n",
    " Synset('dog.n.03'),\n",
    " Synset('cad.n.01'),\n",
    " Synset('frank.n.02'),\n",
    " Synset('pawl.n.01'),\n",
    " Synset('andiron.n.01')]\n",
    "```\n",
    "\n",
    "This question asks you to create synset-based features from the word/tag pairs in `middle_POS`.\n",
    "\n",
    "__To submit:__\n",
    "\n",
    "1. A feature function `synset_featurizer` that is just like `simple_bag_of_words_featurizer` except that it returns a list of synsets derived from `middle_POS`. Stringify these objects with `str` so that they can be `dict` keys. Use `convert_tag` (included below) to convert tags to `pos` arguments usable by `wn.synsets`. The included function `test_synset_featurizer` should help verify that you've done this correctly.\n",
    "\n",
    "2. A call to `rel_ext.experiment` with `synset_featurizer` as the only featurizer. (Aside from this, use all the default values for `rel_ext.experiment`.)"
   ]
  },
  {
   "cell_type": "code",
   "execution_count": 29,
   "metadata": {},
   "outputs": [
    {
     "name": "stderr",
     "output_type": "stream",
     "text": [
      "/usr/local/google/home/ammarh/anaconda3/lib/python3.7/site-packages/sklearn/svm/_base.py:977: ConvergenceWarning: Liblinear failed to converge, increase the number of iterations.\n",
      "  \"the number of iterations.\", ConvergenceWarning)\n"
     ]
    },
    {
     "name": "stdout",
     "output_type": "stream",
     "text": [
      "relation              precision     recall    f-score    support       size\n",
      "------------------    ---------  ---------  ---------  ---------  ---------\n",
      "adjoins                   0.725      0.326      0.583        340       5716\n",
      "author                    0.772      0.446      0.674        509       5885\n",
      "capital                   0.719      0.242      0.516         95       5471\n",
      "contains                  0.777      0.596      0.733       3904       9280\n",
      "film_performance          0.773      0.552      0.716        766       6142\n",
      "founders                  0.735      0.366      0.612        380       5756\n",
      "genre                     0.493      0.212      0.390        170       5546\n",
      "has_sibling               0.787      0.222      0.522        499       5875\n",
      "has_spouse                0.833      0.310      0.622        594       5970\n",
      "is_a                      0.597      0.229      0.452        497       5873\n",
      "nationality               0.456      0.136      0.310        301       5677\n",
      "parents                   0.835      0.535      0.751        312       5688\n",
      "place_of_birth            0.562      0.215      0.424        233       5609\n",
      "place_of_death            0.356      0.101      0.236        159       5535\n",
      "profession                0.556      0.162      0.374        247       5623\n",
      "worked_at                 0.628      0.244      0.477        242       5618\n",
      "------------------    ---------  ---------  ---------  ---------  ---------\n",
      "macro-average             0.663      0.306      0.524       9248      95264\n"
     ]
    }
   ],
   "source": [
    "from nltk.corpus import wordnet as wn\n",
    "\n",
    "def synset_featurizer(kbt, corpus, feature_counter):\n",
    "\n",
    "    ##### YOUR CODE HERE\n",
    "    for ex in corpus.get_examples_for_entities(kbt.sbj, kbt.obj):\n",
    "        for word in get_synsets(ex.middle_POS):\n",
    "            feature_counter[word] += 1\n",
    "    for ex in corpus.get_examples_for_entities(kbt.obj, kbt.sbj):\n",
    "        for word in get_synsets(ex.middle_POS):\n",
    "            feature_counter[word] += 1\n",
    "\n",
    "    return feature_counter\n",
    "\n",
    "\n",
    "def get_synsets(s):\n",
    "    \"\"\"Suggested helper method for `synset_featurizer`. This should\n",
    "    be completed so that it returns a list of stringified Synsets\n",
    "    associated with elements of `s`.\n",
    "    \"\"\"\n",
    "    # Use `parse_lem` from the previous question to get a list of\n",
    "    # (word, POS) pairs. Remember to convert the POS strings.\n",
    "    wt = [parse_lem(lem) for lem in s.strip().split(' ') if lem]\n",
    "    \n",
    "    ##### YOUR CODE HERE\n",
    "    synsets = [wn.synsets(w.lower(), convert_tag(t)) for w, t in wt]\n",
    "\n",
    "    str_synsets = [str(s) for syn in synsets for s in syn]\n",
    "    return str_synsets\n",
    "\n",
    "\n",
    "\n",
    "def convert_tag(t):\n",
    "    \"\"\"Converts tags so that they can be used by WordNet:\n",
    "\n",
    "    | Tag begins with | WordNet tag |\n",
    "    |-----------------|-------------|\n",
    "    | `N`             | `n`         |\n",
    "    | `V`             | `v`         |\n",
    "    | `J`             | `a`         |\n",
    "    | `R`             | `r`         |\n",
    "    | Otherwise       | `None`      |\n",
    "    \"\"\"\n",
    "    if t[0].lower() in {'n', 'v', 'r'}:\n",
    "        return t[0].lower()\n",
    "    elif t[0].lower() == 'j':\n",
    "        return 'a'\n",
    "    else:\n",
    "        return None\n",
    "\n",
    "\n",
    "# Call to `rel_ext.experiment`:\n",
    "##### YOUR CODE HERE\n",
    "synset_results = rel_ext.experiment(\n",
    "    splits,\n",
    "    featurizers=[synset_featurizer], verbose=True)"
   ]
  },
  {
   "cell_type": "code",
   "execution_count": 30,
   "metadata": {},
   "outputs": [],
   "source": [
    "def test_synset_featurizer(corpus):\n",
    "    from collections import defaultdict\n",
    "    kbt = rel_ext.KBTriple(rel='worked_at', sbj='Randall_Munroe', obj='xkcd')\n",
    "    feature_counter = defaultdict(int)\n",
    "    # Make sure `feature_counter` is being updated, not reinitialized:\n",
    "    feature_counter[\"Synset('be.v.01')\"] += 5\n",
    "    feature_counter = synset_featurizer(kbt, corpus, feature_counter)\n",
    "    # The full return values for this tend to be long, so we just\n",
    "    # test a few examples to avoid cluttering up this notebook.\n",
    "    test_cases = {\n",
    "        \"Synset('be.v.01')\": 6,\n",
    "        \"Synset('embody.v.02')\": 1\n",
    "    }\n",
    "    for ss, expected in test_cases.items():\n",
    "        result = feature_counter[ss]\n",
    "        assert result == expected, \\\n",
    "            \"Incorrect count for {}: Expected {}; Got {}\".format(ss, expected, result)"
   ]
  },
  {
   "cell_type": "code",
   "execution_count": 31,
   "metadata": {},
   "outputs": [],
   "source": [
    "if 'IS_GRADESCOPE_ENV' not in os.environ:\n",
    "    test_synset_featurizer(corpus)"
   ]
  },
  {
   "cell_type": "markdown",
   "metadata": {},
   "source": [
    "### Your original system [3 points]\n",
    "\n",
    "There are many options, and this could easily grow into a project. Here are a few ideas:\n",
    "\n",
    "- Try out different classifier models, from `sklearn` and elsewhere.\n",
    "- Add a feature that indicates the length of the middle.\n",
    "- Augment the bag-of-words representation to include bigrams or trigrams (not just unigrams).\n",
    "- Introduce features based on the entity mentions themselves. <!-- \\[SPOILER: it helps a lot, maybe 4% in F-score. And combines nicely with the directional features.\\] -->\n",
    "- Experiment with features based on the context outside (rather than between) the two entity mentions — that is, the words before the first mention, or after the second.\n",
    "- Try adding features which capture syntactic information, such as the dependency-path features used by Mintz et al. 2009. The [NLTK](https://www.nltk.org/) toolkit contains a variety of [parsing algorithms](http://www.nltk.org/api/nltk.parse.html) that may help.\n",
    "- The bag-of-words representation does not permit generalization across word categories such as names of people, places, or companies. Can we do better using word embeddings such as [GloVe](https://nlp.stanford.edu/projects/glove/)?\n",
    "\n",
    "In the cell below, please provide a brief technical description of your original system, so that the teaching team can gain an understanding of what it does. This will help us to understand your code and analyze all the submissions to identify patterns and strategies. We also ask that you report the best score your system got during development, just to help us understand how systems performed overall."
   ]
  },
  {
   "cell_type": "code",
   "execution_count": 32,
   "metadata": {},
   "outputs": [
    {
     "name": "stdout",
     "output_type": "stream",
     "text": [
      "start\n",
      "relation              precision     recall    f-score    support       size\n",
      "------------------    ---------  ---------  ---------  ---------  ---------\n",
      "adjoins                   0.890      0.500      0.770        340       5716\n",
      "author                    0.774      0.517      0.704        509       5885\n",
      "capital                   0.513      0.211      0.398         95       5471\n",
      "contains                  0.780      0.606      0.738       3904       9280\n",
      "film_performance          0.791      0.648      0.757        766       6142\n",
      "founders                  0.655      0.334      0.549        380       5756\n",
      "genre                     0.716      0.312      0.569        170       5546\n",
      "has_sibling               0.881      0.669      0.829        499       5875\n",
      "has_spouse                0.724      0.327      0.582        594       5970\n",
      "is_a                      0.725      0.531      0.676        497       5873\n",
      "nationality               0.556      0.199      0.409        301       5677\n",
      "parents                   0.737      0.439      0.649        312       5688\n",
      "place_of_birth            0.438      0.120      0.286        233       5609\n",
      "place_of_death            0.250      0.063      0.157        159       5535\n",
      "profession                0.689      0.449      0.623        247       5623\n",
      "worked_at                 0.589      0.219      0.440        242       5618\n",
      "------------------    ---------  ---------  ---------  ---------  ---------\n",
      "macro-average             0.669      0.384      0.571       9248      95264\n"
     ]
    }
   ],
   "source": [
    "# PLEASE MAKE SURE TO INCLUDE THE FOLLOWING BETWEEN THE START AND STOP COMMENTS:\n",
    "#   1) Textual description of your system.\n",
    "#   2) The code for your original system.\n",
    "#   3) The score achieved by your system in place of MY_NUMBER.\n",
    "#        With no other changes to that line.\n",
    "#        You should report your score as a decimal value <=1.0\n",
    "# PLEASE MAKE SURE NOT TO DELETE OR EDIT THE START AND STOP COMMENTS\n",
    "\n",
    "# IMPORT ANY MODULES BELOW THE 'IS_GRADESCOPE_ENV' CHECK CONDITION. DOING\n",
    "# SO ABOVE THE CHECK MAY CAUSE THE AUTOGRADER TO FAIL.\n",
    "\n",
    "# START COMMENT: Enter your system description in this cell.\n",
    "# My peak score was: 0.572\n",
    "# My system creates a very simple bag of words feature dictionary using the context of the full sentences where the \n",
    "# two entities are jointly mentioned. As a reweighting mechanism it uses a scaled weight that is proportional to the distance\n",
    "# between the word and its closest entity mention. This is only applicable for the left & right half of the context. For the middle\n",
    "# it simply uses a scaling of 1, in other words all middle words have the full and equal weight. Additionally it also adds the two \n",
    "# entity mentions themselves in the feature dictionary. Finally this scaled context window featurizer is uses in both forward & reverse\n",
    "# for the entity mentions. I played around with a few variants of scaling etc, but this configuration worked best.\n",
    "# I briefly played around with using Adaboost classifier but that doesn't seem to work as well so I just used \n",
    "# the default LogisticRegression classifier.\n",
    "\n",
    "if 'IS_GRADESCOPE_ENV' not in os.environ:\n",
    "  \n",
    "  print('start')\n",
    "  \n",
    "  def scaled_featurizer(kbt, corpus, feature_counter):\n",
    "    \n",
    "    def add_scaled_words(ex, feature_counter):\n",
    "      left_tokens = ex.left.split()\n",
    "      for idx, word in enumerate(left_tokens):\n",
    "        feature_counter[word] += (idx/len(left_tokens))\n",
    "      mid_tokens = ex.middle.split()\n",
    "      for idx, word in enumerate(mid_tokens):\n",
    "        feature_counter[word] += 1\n",
    "      right_tokens = ex.right.split()        \n",
    "      for idx, word in enumerate(right_tokens):\n",
    "        feature_counter[word] += (len(right_tokens) - idx)/len(right_tokens)\n",
    "      for mention in ex.mention_1.split():\n",
    "        feature_counter[mention] += 1\n",
    "      for mention in ex.mention_2.split():\n",
    "        feature_counter[mention] += 1\n",
    "    \n",
    "    for ex in corpus.get_examples_for_entities(kbt.sbj, kbt.obj):\n",
    "      add_scaled_words(ex, feature_counter)\n",
    "\n",
    "    for ex in corpus.get_examples_for_entities(kbt.obj, kbt.sbj):\n",
    "      add_scaled_words(ex, feature_counter)\n",
    "\n",
    "    return feature_counter  \n",
    "\n",
    "  # Original System # 1\n",
    "  orig_sys_1_results = rel_ext.experiment(\n",
    "    splits,\n",
    "    train_split='train',\n",
    "    test_split='dev',\n",
    "    featurizers=[scaled_featurizer],\n",
    "    verbose=True)\n",
    "  \n",
    "# STOP COMMENT: Please do not remove this comment."
   ]
  },
  {
   "cell_type": "code",
   "execution_count": 33,
   "metadata": {},
   "outputs": [],
   "source": [
    "  # Original system # 2\n",
    "  # This system was a different one I built that did not work that well.\n",
    "  # The idea here was to simply take trigrams of the full sentence with the 2 mentions,\n",
    "  # look up the GloVe vectors for each word and average them over the trigram\n",
    "  \n",
    "  def get_trigrams(s):\n",
    "    # The values of `start_symbol` and `end_symbol` are defined\n",
    "    # here so that you can use `test_middle_bigram_pos_tag_featurizer`.\n",
    "    start_symbol = \"<s>\"\n",
    "    end_symbol = \"</s>\"\n",
    "    s = [start_symbol] + s.split() + [end_symbol]\n",
    "    trigrams = [(s[i-2], s[i-1], s[i]) for i in range(2, len(s))]\n",
    "    return trigrams \n",
    "  \n",
    "  GLOVE_HOME = os.path.join('data', 'glove.6B')\n",
    "  glove_lookup = utils.glove2dict(\n",
    "   os.path.join(GLOVE_HOME, 'glove.6B.300d.txt'))\n",
    "\n",
    "  def trigram_glove_featurizer(kbt, corpus):\n",
    "    reps = []\n",
    "    dim = len(next(iter(glove_lookup.values())))\n",
    "    \n",
    "    def featurize(ex, reps):\n",
    "      sent = ex.left + ex.mention_1 + ex.middle + ex.mention_2 + ex.right\n",
    "      trigrams = get_trigrams(sent)\n",
    "      for t in trigrams:\n",
    "        tws = [np.zeros(dim), np.zeros(dim), np.zeros(dim)]\n",
    "        for i, word in enumerate(t):\n",
    "          tw = glove_lookup.get(word)\n",
    "          if tw is not None:\n",
    "            tws[i] = tw          \n",
    "        reps.append(np.sum(tws, axis=0))\n",
    "      return reps\n",
    "    \n",
    "    for ex in corpus.get_examples_for_entities(kbt.sbj, kbt.obj):\n",
    "      reps += featurize(ex, reps)\n",
    "      \n",
    "    for ex in corpus.get_examples_for_entities(kbt.obj, kbt.sbj):\n",
    "      reps += featurize(ex, reps)\n",
    "        \n",
    "    # A random representation of the right dimensionality if \n",
    "    # nothing was found in GloVe or the corpus.\n",
    "    if len(reps) == 0:\n",
    "        return utils.randvec(n=dim)\n",
    "    else:\n",
    "        return np.mean(reps, axis=0) \n",
    "\n",
    "#   glove_results_1 = rel_ext.experiment(\n",
    "#     splits,\n",
    "#     train_split='train',\n",
    "#     test_split='dev',\n",
    "#     featurizers=[glove_middle_featurizer],\n",
    "#     vectorize=False, # Crucial for this featurizer!\n",
    "#     verbose=True)\n"
   ]
  },
  {
   "cell_type": "markdown",
   "metadata": {},
   "source": [
    "## Bake-off [1 point]\n",
    "\n",
    "For the bake-off, we will release a test set. The announcement will go out on the discussion forum. You will evaluate your custom model from the previous question on these new datasets using the function `rel_ext.bake_off_experiment`. Rules:\n",
    "\n",
    "1. Only one evaluation is permitted.\n",
    "1. No additional system tuning is permitted once the bake-off has started.\n",
    "\n",
    "The cells below this one constitute your bake-off entry.\n",
    "\n",
    "People who enter will receive the additional homework point, and people whose systems achieve the top score will receive an additional 0.5 points. We will test the top-performing systems ourselves, and only systems for which we can reproduce the reported results will win the extra 0.5 points.\n",
    "\n",
    "Late entries will be accepted, but they cannot earn the extra 0.5 points. Similarly, you cannot win the bake-off unless your homework is submitted on time.\n",
    "\n",
    "The announcement will include the details on where to submit your entry."
   ]
  },
  {
   "cell_type": "code",
   "execution_count": 36,
   "metadata": {},
   "outputs": [
    {
     "name": "stdout",
     "output_type": "stream",
     "text": [
      "relation              precision     recall    f-score    support       size\n",
      "------------------    ---------  ---------  ---------  ---------  ---------\n",
      "adjoins                   0.877      0.524      0.773        340       5716\n",
      "author                    0.862      0.823      0.854        509       5885\n",
      "capital                   0.733      0.663      0.718         95       5471\n",
      "contains                  0.828      0.867      0.836       3904       9280\n",
      "film_performance          0.848      0.958      0.868        766       6142\n",
      "founders                  0.848      0.824      0.843        380       5756\n",
      "genre                     0.880      0.947      0.892        170       5546\n",
      "has_sibling               0.903      0.687      0.849        499       5875\n",
      "has_spouse                0.871      0.672      0.822        594       5970\n",
      "is_a                      0.822      0.789      0.815        497       5873\n",
      "nationality               0.768      0.595      0.726        301       5677\n",
      "parents                   0.841      0.744      0.819        312       5688\n",
      "place_of_birth            0.819      0.755      0.805        233       5609\n",
      "place_of_death            0.771      0.698      0.755        159       5535\n",
      "profession                0.793      0.789      0.792        247       5623\n",
      "worked_at                 0.835      0.839      0.836        242       5618\n",
      "------------------    ---------  ---------  ---------  ---------  ---------\n",
      "macro-average             0.831      0.761      0.813       9248      95264\n",
      "-----------------------\n",
      "relation              precision     recall    f-score    support       size\n",
      "------------------    ---------  ---------  ---------  ---------  ---------\n",
      "adjoins                   0.918      0.511      0.792        438       7122\n",
      "author                    0.787      0.516      0.712        645       7329\n",
      "capital                   0.581      0.313      0.496        115       6799\n",
      "contains                  0.770      0.649      0.743       3808      10492\n",
      "film_performance          0.833      0.662      0.792       1011       7695\n",
      "founders                  0.700      0.378      0.598        444       7128\n",
      "genre                     0.732      0.378      0.616        188       6872\n",
      "has_sibling               0.870      0.374      0.688        717       7401\n",
      "has_spouse                0.753      0.351      0.613        780       7464\n",
      "is_a                      0.645      0.354      0.554        611       7295\n",
      "nationality               0.489      0.172      0.358        383       7067\n",
      "parents                   0.847      0.520      0.753        427       7111\n",
      "place_of_birth            0.538      0.144      0.348        291       6975\n",
      "place_of_death            0.415      0.110      0.267        200       6884\n",
      "profession                0.619      0.294      0.507        310       6994\n",
      "worked_at                 0.701      0.291      0.547        323       7007\n",
      "------------------    ---------  ---------  ---------  ---------  ---------\n",
      "macro-average             0.700      0.376      0.586      10691     117635\n"
     ]
    }
   ],
   "source": [
    "# Enter your bake-off assessment code in this cell.\n",
    "# Please do not remove this comment.\n",
    "if 'IS_GRADESCOPE_ENV' not in os.environ:\n",
    "    pass\n",
    "    # Please enter your code in the scope of the above conditional.\n",
    "    ##### YOUR CODE HERE\n",
    "    rel_ext_data_home_test = os.path.join(\n",
    "      rel_ext_data_home, 'bakeoff-rel_ext-test-data')\n",
    "    orig_sys_bakeoff_results = rel_ext.experiment(\n",
    "      splits,\n",
    "      train_split='all',\n",
    "      test_split='dev',\n",
    "      featurizers=[scaled_featurizer],\n",
    "      verbose=True)\n",
    "    \n",
    "    print(\"-----------------------\")\n",
    "    rel_ext.bake_off_experiment(orig_sys_bakeoff_results, rel_ext_data_home_test)\n"
   ]
  },
  {
   "cell_type": "code",
   "execution_count": 35,
   "metadata": {},
   "outputs": [],
   "source": [
    "# On an otherwise blank line in this cell, please enter\n",
    "# your macro-average f-score (an F_0.5 score) as reported\n",
    "# by the code above. Please enter only a number between\n",
    "# 0 and 1 inclusive. Please do not remove this comment.\n",
    "if 'IS_GRADESCOPE_ENV' not in os.environ:\n",
    "    pass\n",
    "    # Please enter your score in the scope of the above conditional.\n",
    "    0.587\n"
   ]
  }
 ],
 "metadata": {
  "kernelspec": {
   "display_name": "Python 3",
   "language": "python",
   "name": "python3"
  },
  "language_info": {
   "codemirror_mode": {
    "name": "ipython",
    "version": 3
   },
   "file_extension": ".py",
   "mimetype": "text/x-python",
   "name": "python",
   "nbconvert_exporter": "python",
   "pygments_lexer": "ipython3",
   "version": "3.7.7"
  },
  "widgets": {
   "state": {},
   "version": "1.1.2"
  }
 },
 "nbformat": 4,
 "nbformat_minor": 4
}
